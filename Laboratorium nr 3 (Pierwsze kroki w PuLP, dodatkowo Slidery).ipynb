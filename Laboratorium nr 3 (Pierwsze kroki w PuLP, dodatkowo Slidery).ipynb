{
  "nbformat": 4,
  "nbformat_minor": 0,
  "metadata": {
    "colab": {
      "name": "PuLP_moje (1).ipynb",
      "provenance": [],
      "collapsed_sections": []
    },
    "kernelspec": {
      "display_name": "Python 3",
      "language": "python",
      "name": "python3"
    },
    "language_info": {
      "codemirror_mode": {
        "name": "ipython",
        "version": 3
      },
      "file_extension": ".py",
      "mimetype": "text/x-python",
      "name": "python",
      "nbconvert_exporter": "python",
      "pygments_lexer": "ipython3",
      "version": "3.8.3"
    },
    "widgets": {
      "application/vnd.jupyter.widget-state+json": {
        "2ea8b053284d4fb3848e4daec85c8a03": {
          "model_module": "@jupyter-widgets/controls",
          "model_name": "VBoxModel",
          "state": {
            "_view_name": "VBoxView",
            "_dom_classes": [
              "widget-interact"
            ],
            "_model_name": "VBoxModel",
            "_view_module": "@jupyter-widgets/controls",
            "_model_module_version": "1.5.0",
            "_view_count": null,
            "_view_module_version": "1.5.0",
            "box_style": "",
            "layout": "IPY_MODEL_8613856082e14998b244ec323fb199f7",
            "_model_module": "@jupyter-widgets/controls",
            "children": [
              "IPY_MODEL_ea8467ff489f422790459784043cbfa3",
              "IPY_MODEL_82354c8a1fba48dabca4468737254bd7",
              "IPY_MODEL_26fa76fe641a4f1e87e4cdf6d481c64c",
              "IPY_MODEL_59e494cb0da146eca6991a598e035ed2",
              "IPY_MODEL_070c0997cc754789bfcdba87c793b426",
              "IPY_MODEL_4ced728bfdcb4d0382bd3d80d5a403b7"
            ]
          }
        },
        "8613856082e14998b244ec323fb199f7": {
          "model_module": "@jupyter-widgets/base",
          "model_name": "LayoutModel",
          "state": {
            "_view_name": "LayoutView",
            "grid_template_rows": null,
            "right": null,
            "justify_content": null,
            "_view_module": "@jupyter-widgets/base",
            "overflow": null,
            "_model_module_version": "1.2.0",
            "_view_count": null,
            "flex_flow": null,
            "width": null,
            "min_width": null,
            "border": null,
            "align_items": null,
            "bottom": null,
            "_model_module": "@jupyter-widgets/base",
            "top": null,
            "grid_column": null,
            "overflow_y": null,
            "overflow_x": null,
            "grid_auto_flow": null,
            "grid_area": null,
            "grid_template_columns": null,
            "flex": null,
            "_model_name": "LayoutModel",
            "justify_items": null,
            "grid_row": null,
            "max_height": null,
            "align_content": null,
            "visibility": null,
            "align_self": null,
            "height": null,
            "min_height": null,
            "padding": null,
            "grid_auto_rows": null,
            "grid_gap": null,
            "max_width": null,
            "order": null,
            "_view_module_version": "1.2.0",
            "grid_template_areas": null,
            "object_position": null,
            "object_fit": null,
            "grid_auto_columns": null,
            "margin": null,
            "display": null,
            "left": null
          }
        },
        "ea8467ff489f422790459784043cbfa3": {
          "model_module": "@jupyter-widgets/controls",
          "model_name": "FloatSliderModel",
          "state": {
            "_view_name": "FloatSliderView",
            "style": "IPY_MODEL_054e991b93bc4652881dd4bf1a8045fa",
            "_dom_classes": [],
            "description": "sardynki_cena_slider",
            "step": 0.1,
            "_model_name": "FloatSliderModel",
            "orientation": "horizontal",
            "max": 1,
            "_view_module": "@jupyter-widgets/controls",
            "_model_module_version": "1.5.0",
            "value": 0,
            "_view_count": null,
            "disabled": false,
            "_view_module_version": "1.5.0",
            "min": 0,
            "continuous_update": true,
            "readout_format": ".2f",
            "description_tooltip": null,
            "readout": true,
            "_model_module": "@jupyter-widgets/controls",
            "layout": "IPY_MODEL_6b2806f6326e4532b234bddd16ff5a3b"
          }
        },
        "82354c8a1fba48dabca4468737254bd7": {
          "model_module": "@jupyter-widgets/controls",
          "model_name": "FloatSliderModel",
          "state": {
            "_view_name": "FloatSliderView",
            "style": "IPY_MODEL_07d1dec18ca84ff299b4fdeacbe82a30",
            "_dom_classes": [],
            "description": "sardynki_bialko_slider",
            "step": 0.1,
            "_model_name": "FloatSliderModel",
            "orientation": "horizontal",
            "max": 1,
            "_view_module": "@jupyter-widgets/controls",
            "_model_module_version": "1.5.0",
            "value": 1,
            "_view_count": null,
            "disabled": false,
            "_view_module_version": "1.5.0",
            "min": 0,
            "continuous_update": true,
            "readout_format": ".2f",
            "description_tooltip": null,
            "readout": true,
            "_model_module": "@jupyter-widgets/controls",
            "layout": "IPY_MODEL_866f3245bbb0439083d9fc9255787648"
          }
        },
        "26fa76fe641a4f1e87e4cdf6d481c64c": {
          "model_module": "@jupyter-widgets/controls",
          "model_name": "FloatSliderModel",
          "state": {
            "_view_name": "FloatSliderView",
            "style": "IPY_MODEL_5cc5e8d1ddd24d28983be91cf56e4a56",
            "_dom_classes": [],
            "description": "sardynki_tluszcz_slider",
            "step": 0.1,
            "_model_name": "FloatSliderModel",
            "orientation": "horizontal",
            "max": 1,
            "_view_module": "@jupyter-widgets/controls",
            "_model_module_version": "1.5.0",
            "value": 0.5,
            "_view_count": null,
            "disabled": false,
            "_view_module_version": "1.5.0",
            "min": 0,
            "continuous_update": true,
            "readout_format": ".2f",
            "description_tooltip": null,
            "readout": true,
            "_model_module": "@jupyter-widgets/controls",
            "layout": "IPY_MODEL_85fccdc552e04f838989096c0bafa48a"
          }
        },
        "59e494cb0da146eca6991a598e035ed2": {
          "model_module": "@jupyter-widgets/controls",
          "model_name": "FloatSliderModel",
          "state": {
            "_view_name": "FloatSliderView",
            "style": "IPY_MODEL_e8cf8d901b0f41d7aea49fe8a909b559",
            "_dom_classes": [],
            "description": "sardynki_weglowodany_slider",
            "step": 0.1,
            "_model_name": "FloatSliderModel",
            "orientation": "horizontal",
            "max": 1,
            "_view_module": "@jupyter-widgets/controls",
            "_model_module_version": "1.5.0",
            "value": 0.4,
            "_view_count": null,
            "disabled": false,
            "_view_module_version": "1.5.0",
            "min": 0,
            "continuous_update": true,
            "readout_format": ".2f",
            "description_tooltip": null,
            "readout": true,
            "_model_module": "@jupyter-widgets/controls",
            "layout": "IPY_MODEL_9a0e5d66a91a4898a1b2cd827776e244"
          }
        },
        "070c0997cc754789bfcdba87c793b426": {
          "model_module": "@jupyter-widgets/controls",
          "model_name": "FloatSliderModel",
          "state": {
            "_view_name": "FloatSliderView",
            "style": "IPY_MODEL_4a6f8d116e8648a6a56d8b736a37add2",
            "_dom_classes": [],
            "description": "sardynki_sol_slider",
            "step": 0.1,
            "_model_name": "FloatSliderModel",
            "orientation": "horizontal",
            "max": 1,
            "_view_module": "@jupyter-widgets/controls",
            "_model_module_version": "1.5.0",
            "value": 0.9,
            "_view_count": null,
            "disabled": false,
            "_view_module_version": "1.5.0",
            "min": 0,
            "continuous_update": true,
            "readout_format": ".2f",
            "description_tooltip": null,
            "readout": true,
            "_model_module": "@jupyter-widgets/controls",
            "layout": "IPY_MODEL_2624f7da2e464199a831a782b1712283"
          }
        },
        "4ced728bfdcb4d0382bd3d80d5a403b7": {
          "model_module": "@jupyter-widgets/output",
          "model_name": "OutputModel",
          "state": {
            "_view_name": "OutputView",
            "msg_id": "",
            "_dom_classes": [],
            "_model_name": "OutputModel",
            "outputs": [
              {
                "output_type": "stream",
                "metadata": {
                  "tags": []
                },
                "text": "Końcowy produkt będzie kosztować  0.515885711\nbędzie miał  Skladniki_BARANINA  :  0.0 %\nbędzie miał  Skladniki_KURCZAK  :  0.0 %\nbędzie miał  Skladniki_PRZENICA  :  0.0 %\nbędzie miał  Skladniki_RYŻ  :  0.0 %\nbędzie miał  Skladniki_SARDYNKI  :  0.11428571 %\nbędzie miał  Skladniki_WOŁOWINA  :  59.428571 %\nbędzie miał  Skladniki_ŻEL  :  40.457143 %\n",
                "stream": "stdout"
              }
            ],
            "_view_module": "@jupyter-widgets/output",
            "_model_module_version": "1.0.0",
            "_view_count": null,
            "_view_module_version": "1.0.0",
            "layout": "IPY_MODEL_21af4a49f8d84ffdbd43a454209b2eb7",
            "_model_module": "@jupyter-widgets/output"
          }
        },
        "054e991b93bc4652881dd4bf1a8045fa": {
          "model_module": "@jupyter-widgets/controls",
          "model_name": "SliderStyleModel",
          "state": {
            "_view_name": "StyleView",
            "handle_color": null,
            "_model_name": "SliderStyleModel",
            "description_width": "initial",
            "_view_module": "@jupyter-widgets/base",
            "_model_module_version": "1.5.0",
            "_view_count": null,
            "_view_module_version": "1.2.0",
            "_model_module": "@jupyter-widgets/controls"
          }
        },
        "6b2806f6326e4532b234bddd16ff5a3b": {
          "model_module": "@jupyter-widgets/base",
          "model_name": "LayoutModel",
          "state": {
            "_view_name": "LayoutView",
            "grid_template_rows": null,
            "right": null,
            "justify_content": null,
            "_view_module": "@jupyter-widgets/base",
            "overflow": null,
            "_model_module_version": "1.2.0",
            "_view_count": null,
            "flex_flow": null,
            "width": null,
            "min_width": null,
            "border": null,
            "align_items": null,
            "bottom": null,
            "_model_module": "@jupyter-widgets/base",
            "top": null,
            "grid_column": null,
            "overflow_y": null,
            "overflow_x": null,
            "grid_auto_flow": null,
            "grid_area": null,
            "grid_template_columns": null,
            "flex": null,
            "_model_name": "LayoutModel",
            "justify_items": null,
            "grid_row": null,
            "max_height": null,
            "align_content": null,
            "visibility": null,
            "align_self": null,
            "height": null,
            "min_height": null,
            "padding": null,
            "grid_auto_rows": null,
            "grid_gap": null,
            "max_width": null,
            "order": null,
            "_view_module_version": "1.2.0",
            "grid_template_areas": null,
            "object_position": null,
            "object_fit": null,
            "grid_auto_columns": null,
            "margin": null,
            "display": null,
            "left": null
          }
        },
        "07d1dec18ca84ff299b4fdeacbe82a30": {
          "model_module": "@jupyter-widgets/controls",
          "model_name": "SliderStyleModel",
          "state": {
            "_view_name": "StyleView",
            "handle_color": null,
            "_model_name": "SliderStyleModel",
            "description_width": "initial",
            "_view_module": "@jupyter-widgets/base",
            "_model_module_version": "1.5.0",
            "_view_count": null,
            "_view_module_version": "1.2.0",
            "_model_module": "@jupyter-widgets/controls"
          }
        },
        "866f3245bbb0439083d9fc9255787648": {
          "model_module": "@jupyter-widgets/base",
          "model_name": "LayoutModel",
          "state": {
            "_view_name": "LayoutView",
            "grid_template_rows": null,
            "right": null,
            "justify_content": null,
            "_view_module": "@jupyter-widgets/base",
            "overflow": null,
            "_model_module_version": "1.2.0",
            "_view_count": null,
            "flex_flow": null,
            "width": null,
            "min_width": null,
            "border": null,
            "align_items": null,
            "bottom": null,
            "_model_module": "@jupyter-widgets/base",
            "top": null,
            "grid_column": null,
            "overflow_y": null,
            "overflow_x": null,
            "grid_auto_flow": null,
            "grid_area": null,
            "grid_template_columns": null,
            "flex": null,
            "_model_name": "LayoutModel",
            "justify_items": null,
            "grid_row": null,
            "max_height": null,
            "align_content": null,
            "visibility": null,
            "align_self": null,
            "height": null,
            "min_height": null,
            "padding": null,
            "grid_auto_rows": null,
            "grid_gap": null,
            "max_width": null,
            "order": null,
            "_view_module_version": "1.2.0",
            "grid_template_areas": null,
            "object_position": null,
            "object_fit": null,
            "grid_auto_columns": null,
            "margin": null,
            "display": null,
            "left": null
          }
        },
        "5cc5e8d1ddd24d28983be91cf56e4a56": {
          "model_module": "@jupyter-widgets/controls",
          "model_name": "SliderStyleModel",
          "state": {
            "_view_name": "StyleView",
            "handle_color": null,
            "_model_name": "SliderStyleModel",
            "description_width": "initial",
            "_view_module": "@jupyter-widgets/base",
            "_model_module_version": "1.5.0",
            "_view_count": null,
            "_view_module_version": "1.2.0",
            "_model_module": "@jupyter-widgets/controls"
          }
        },
        "85fccdc552e04f838989096c0bafa48a": {
          "model_module": "@jupyter-widgets/base",
          "model_name": "LayoutModel",
          "state": {
            "_view_name": "LayoutView",
            "grid_template_rows": null,
            "right": null,
            "justify_content": null,
            "_view_module": "@jupyter-widgets/base",
            "overflow": null,
            "_model_module_version": "1.2.0",
            "_view_count": null,
            "flex_flow": null,
            "width": null,
            "min_width": null,
            "border": null,
            "align_items": null,
            "bottom": null,
            "_model_module": "@jupyter-widgets/base",
            "top": null,
            "grid_column": null,
            "overflow_y": null,
            "overflow_x": null,
            "grid_auto_flow": null,
            "grid_area": null,
            "grid_template_columns": null,
            "flex": null,
            "_model_name": "LayoutModel",
            "justify_items": null,
            "grid_row": null,
            "max_height": null,
            "align_content": null,
            "visibility": null,
            "align_self": null,
            "height": null,
            "min_height": null,
            "padding": null,
            "grid_auto_rows": null,
            "grid_gap": null,
            "max_width": null,
            "order": null,
            "_view_module_version": "1.2.0",
            "grid_template_areas": null,
            "object_position": null,
            "object_fit": null,
            "grid_auto_columns": null,
            "margin": null,
            "display": null,
            "left": null
          }
        },
        "e8cf8d901b0f41d7aea49fe8a909b559": {
          "model_module": "@jupyter-widgets/controls",
          "model_name": "SliderStyleModel",
          "state": {
            "_view_name": "StyleView",
            "handle_color": null,
            "_model_name": "SliderStyleModel",
            "description_width": "initial",
            "_view_module": "@jupyter-widgets/base",
            "_model_module_version": "1.5.0",
            "_view_count": null,
            "_view_module_version": "1.2.0",
            "_model_module": "@jupyter-widgets/controls"
          }
        },
        "9a0e5d66a91a4898a1b2cd827776e244": {
          "model_module": "@jupyter-widgets/base",
          "model_name": "LayoutModel",
          "state": {
            "_view_name": "LayoutView",
            "grid_template_rows": null,
            "right": null,
            "justify_content": null,
            "_view_module": "@jupyter-widgets/base",
            "overflow": null,
            "_model_module_version": "1.2.0",
            "_view_count": null,
            "flex_flow": null,
            "width": null,
            "min_width": null,
            "border": null,
            "align_items": null,
            "bottom": null,
            "_model_module": "@jupyter-widgets/base",
            "top": null,
            "grid_column": null,
            "overflow_y": null,
            "overflow_x": null,
            "grid_auto_flow": null,
            "grid_area": null,
            "grid_template_columns": null,
            "flex": null,
            "_model_name": "LayoutModel",
            "justify_items": null,
            "grid_row": null,
            "max_height": null,
            "align_content": null,
            "visibility": null,
            "align_self": null,
            "height": null,
            "min_height": null,
            "padding": null,
            "grid_auto_rows": null,
            "grid_gap": null,
            "max_width": null,
            "order": null,
            "_view_module_version": "1.2.0",
            "grid_template_areas": null,
            "object_position": null,
            "object_fit": null,
            "grid_auto_columns": null,
            "margin": null,
            "display": null,
            "left": null
          }
        },
        "4a6f8d116e8648a6a56d8b736a37add2": {
          "model_module": "@jupyter-widgets/controls",
          "model_name": "SliderStyleModel",
          "state": {
            "_view_name": "StyleView",
            "handle_color": null,
            "_model_name": "SliderStyleModel",
            "description_width": "initial",
            "_view_module": "@jupyter-widgets/base",
            "_model_module_version": "1.5.0",
            "_view_count": null,
            "_view_module_version": "1.2.0",
            "_model_module": "@jupyter-widgets/controls"
          }
        },
        "2624f7da2e464199a831a782b1712283": {
          "model_module": "@jupyter-widgets/base",
          "model_name": "LayoutModel",
          "state": {
            "_view_name": "LayoutView",
            "grid_template_rows": null,
            "right": null,
            "justify_content": null,
            "_view_module": "@jupyter-widgets/base",
            "overflow": null,
            "_model_module_version": "1.2.0",
            "_view_count": null,
            "flex_flow": null,
            "width": null,
            "min_width": null,
            "border": null,
            "align_items": null,
            "bottom": null,
            "_model_module": "@jupyter-widgets/base",
            "top": null,
            "grid_column": null,
            "overflow_y": null,
            "overflow_x": null,
            "grid_auto_flow": null,
            "grid_area": null,
            "grid_template_columns": null,
            "flex": null,
            "_model_name": "LayoutModel",
            "justify_items": null,
            "grid_row": null,
            "max_height": null,
            "align_content": null,
            "visibility": null,
            "align_self": null,
            "height": null,
            "min_height": null,
            "padding": null,
            "grid_auto_rows": null,
            "grid_gap": null,
            "max_width": null,
            "order": null,
            "_view_module_version": "1.2.0",
            "grid_template_areas": null,
            "object_position": null,
            "object_fit": null,
            "grid_auto_columns": null,
            "margin": null,
            "display": null,
            "left": null
          }
        },
        "21af4a49f8d84ffdbd43a454209b2eb7": {
          "model_module": "@jupyter-widgets/base",
          "model_name": "LayoutModel",
          "state": {
            "_view_name": "LayoutView",
            "grid_template_rows": null,
            "right": null,
            "justify_content": null,
            "_view_module": "@jupyter-widgets/base",
            "overflow": null,
            "_model_module_version": "1.2.0",
            "_view_count": null,
            "flex_flow": null,
            "width": null,
            "min_width": null,
            "border": null,
            "align_items": null,
            "bottom": null,
            "_model_module": "@jupyter-widgets/base",
            "top": null,
            "grid_column": null,
            "overflow_y": null,
            "overflow_x": null,
            "grid_auto_flow": null,
            "grid_area": null,
            "grid_template_columns": null,
            "flex": null,
            "_model_name": "LayoutModel",
            "justify_items": null,
            "grid_row": null,
            "max_height": null,
            "align_content": null,
            "visibility": null,
            "align_self": null,
            "height": null,
            "min_height": null,
            "padding": null,
            "grid_auto_rows": null,
            "grid_gap": null,
            "max_width": null,
            "order": null,
            "_view_module_version": "1.2.0",
            "grid_template_areas": null,
            "object_position": null,
            "object_fit": null,
            "grid_auto_columns": null,
            "margin": null,
            "display": null,
            "left": null
          }
        }
      }
    }
  },
  "cells": [
    {
      "cell_type": "code",
      "metadata": {
        "colab": {
          "base_uri": "https://localhost:8080/"
        },
        "id": "ybXv0mY98RcV",
        "outputId": "d0fa1da9-0eb2-4816-ccf3-2508f72dec06"
      },
      "source": [
        "#Instalacja biblioteki PuLP\n",
        "!pip install pulp\n"
      ],
      "execution_count": 1,
      "outputs": [
        {
          "output_type": "stream",
          "text": [
            "Collecting pulp\n",
            "\u001b[?25l  Downloading https://files.pythonhosted.org/packages/89/0c/6d80f5f81a92d1733cc5ca180491b8a3cd5839e335627a0046c81b7d3d3d/PuLP-2.3.1-py3-none-any.whl (40.6MB)\n",
            "\u001b[K     |████████████████████████████████| 40.6MB 106kB/s \n",
            "\u001b[?25hCollecting amply>=0.1.2\n",
            "  Downloading https://files.pythonhosted.org/packages/f3/c5/dfa09dd2595a2ab2ab4e6fa7bebef9565812722e1980d04b0edce5032066/amply-0.1.4-py3-none-any.whl\n",
            "Requirement already satisfied: docutils>=0.3 in /usr/local/lib/python3.6/dist-packages (from amply>=0.1.2->pulp) (0.16)\n",
            "Requirement already satisfied: pyparsing in /usr/local/lib/python3.6/dist-packages (from amply>=0.1.2->pulp) (2.4.7)\n",
            "Installing collected packages: amply, pulp\n",
            "Successfully installed amply-0.1.4 pulp-2.3.1\n"
          ],
          "name": "stdout"
        }
      ]
    },
    {
      "cell_type": "code",
      "metadata": {
        "colab": {
          "base_uri": "https://localhost:8080/"
        },
        "id": "zhpZXCjq9bMC",
        "scrolled": true,
        "outputId": "972f50aa-911c-4744-e69e-674507e9f33f"
      },
      "source": [
        "#Załączamy zainstalowaną bibliotekę i sprawdzamy wersje\n",
        "import pulp\n",
        "\n",
        "print(pulp.__version__)"
      ],
      "execution_count": 2,
      "outputs": [
        {
          "output_type": "stream",
          "text": [
            "2.3.1\n"
          ],
          "name": "stdout"
        }
      ]
    },
    {
      "cell_type": "code",
      "metadata": {
        "colab": {
          "base_uri": "https://localhost:8080/"
        },
        "id": "1CMqIZIx-eth",
        "outputId": "4a2cc5a8-15c8-4790-b422-f6719db59651"
      },
      "source": [
        "#Instalacja pozostałych narzędzi niezbędnych do przeprowadzenia zadań\n",
        "!sudo apt-get install coinor-cbc glpk-utils coinor-clp"
      ],
      "execution_count": 4,
      "outputs": [
        {
          "output_type": "stream",
          "text": [
            "Reading package lists... Done\n",
            "Building dependency tree       \n",
            "Reading state information... Done\n",
            "coinor-cbc is already the newest version (2.9.9+repack1-1).\n",
            "coinor-clp is already the newest version (1.16.11+repack1-1).\n",
            "glpk-utils is already the newest version (4.65-1).\n",
            "0 upgraded, 0 newly installed, 0 to remove and 14 not upgraded.\n"
          ],
          "name": "stdout"
        }
      ]
    },
    {
      "cell_type": "code",
      "metadata": {
        "colab": {
          "base_uri": "https://localhost:8080/"
        },
        "id": "HxOPJqBC-xwR",
        "outputId": "9383e28b-6eb5-4f66-ecaf-22ebdc7c82ba"
      },
      "source": [
        "#Sprawdzamy dostępność poszczególnych narzędzi biblioteki PuLP. \n",
        "pulp.pulpTestAll()"
      ],
      "execution_count": 5,
      "outputs": [
        {
          "output_type": "stream",
          "text": [
            ".............."
          ],
          "name": "stderr"
        },
        {
          "output_type": "stream",
          "text": [
            "Solver <class 'pulp.apis.coin_api.PULP_CBC_CMD'> available\n",
            "Solver <class 'pulp.apis.cplex_api.CPLEX_DLL'> unavailable\n",
            "Solver <class 'pulp.apis.cplex_api.CPLEX_CMD'> unavailable\n",
            "Solver <class 'pulp.apis.cplex_api.CPLEX_PY'> unavailable\n",
            "Solver <class 'pulp.apis.coin_api.COIN_CMD'> available\n",
            "Solver <class 'pulp.apis.coin_api.COINMP_DLL'> unavailable\n",
            "Solver <class 'pulp.apis.glpk_api.GLPK_CMD'> available\n",
            "Solver <class 'pulp.apis.xpress_api.XPRESS'> unavailable\n",
            "Solver <class 'pulp.apis.gurobi_api.GUROBI'> unavailable\n",
            "Solver <class 'pulp.apis.gurobi_api.GUROBI_CMD'> unavailable\n",
            "Solver <class 'pulp.apis.glpk_api.PYGLPK'> unavailable\n",
            "Solver <class 'pulp.apis.coin_api.YAPOSIB'> unavailable\n",
            "Solver <class 'pulp.apis.choco_api.PULP_CHOCO_CMD'> available\n",
            "Solver <class 'pulp.apis.choco_api.CHOCO_CMD'> unavailable\n",
            "Solver <class 'pulp.apis.mipcl_api.MIPCL_CMD'> unavailable\n",
            "Solver <class 'pulp.apis.mosek_api.MOSEK'> unavailable\n",
            "Solver <class 'pulp.apis.scip_api.SCIP_CMD'> unavailable\n",
            "\t Testing invalid status\n",
            "\t Testing continuous LP solution - export dict\n",
            "\t Testing MIP solution\n",
            "\t Testing maximize continuous LP solution\n",
            "\t Testing continuous LP solution - export JSON\n",
            "\t Testing continuous LP solution - export solver dict\n",
            "\t Testing continuous LP solution - export solver JSON\n",
            "\t Testing makeDict general behavior\n",
            "\t Testing makeDict default value behavior\n",
            "\t Testing the availability of the function pulpTestAll\n",
            "\t Testing zero subtraction\n",
            "\t Testing inconsistent lp solution\n",
            "\t Testing continuous LP solution\n"
          ],
          "name": "stdout"
        },
        {
          "output_type": "stream",
          "text": [
            "..............."
          ],
          "name": "stderr"
        },
        {
          "output_type": "stream",
          "text": [
            "\t Testing maximize continuous LP solution\n",
            "\t Testing unbounded continuous LP solution\n",
            "\t Testing Long Names\n",
            "\t Testing repeated Names\n",
            "\t Testing zero constraint\n",
            "\t Testing zero objective\n",
            "\t Testing LpVariable (not LpAffineExpression) objective\n",
            "\t Testing Long lines in LP\n",
            "\t Testing LpAffineExpression divide\n",
            "\t Testing MIP solution\n",
            "\t Testing MIP solution with floats in objective\n",
            "\t Testing MIP solution\n",
            "\t Testing MIP solution\n",
            "\t Testing MIP relaxation\n",
            "\t Testing feasibility problem (no objective)\n"
          ],
          "name": "stdout"
        },
        {
          "output_type": "stream",
          "text": [
            "..............."
          ],
          "name": "stderr"
        },
        {
          "output_type": "stream",
          "text": [
            "\t Testing an infeasible problem\n",
            "\t Testing an integer infeasible problem\n",
            "\t Testing another integer infeasible problem\n",
            "\t Testing column based modelling\n",
            "\t Testing dual variables and slacks reporting\n",
            "\t Testing fractional constraints\n",
            "\t Testing elastic constraints (no change)\n",
            "\t Testing elastic constraints (freebound)\n",
            "\t Testing elastic constraints (penalty unchanged)\n",
            "\t Testing elastic constraints (penalty unbounded)\n",
            "\t Testing invalid status\n",
            "\t Testing continuous LP solution - export dict\n"
          ],
          "name": "stdout"
        },
        {
          "output_type": "stream",
          "text": [
            ".............."
          ],
          "name": "stderr"
        },
        {
          "output_type": "stream",
          "text": [
            "\t Testing MIP solution\n",
            "\t Testing maximize continuous LP solution\n",
            "\t Testing continuous LP solution - export JSON\n",
            "\t Testing continuous LP solution - export solver dict\n",
            "\t Testing continuous LP solution - export solver JSON\n",
            "\t Testing makeDict general behavior\n",
            "\t Testing makeDict default value behavior\n",
            "\t Testing the availability of the function pulpTestAll\n",
            "\t Testing zero subtraction\n",
            "\t Testing inconsistent lp solution\n",
            "\t Testing continuous LP solution\n",
            "\t Testing maximize continuous LP solution\n",
            "\t Testing unbounded continuous LP solution\n"
          ],
          "name": "stdout"
        },
        {
          "output_type": "stream",
          "text": [
            "..........."
          ],
          "name": "stderr"
        },
        {
          "output_type": "stream",
          "text": [
            "\t Testing Long Names\n",
            "\t Testing repeated Names\n",
            "\t Testing zero constraint\n",
            "\t Testing zero objective\n",
            "\t Testing LpVariable (not LpAffineExpression) objective\n",
            "\t Testing Long lines in LP\n",
            "\t Testing LpAffineExpression divide\n",
            "\t Testing MIP solution\n",
            "\t Testing MIP solution with floats in objective\n",
            "\t Testing MIP solution\n",
            "\t Testing MIP solution\n"
          ],
          "name": "stdout"
        },
        {
          "output_type": "stream",
          "text": [
            "............."
          ],
          "name": "stderr"
        },
        {
          "output_type": "stream",
          "text": [
            "\t Testing MIP relaxation\n",
            "\t Testing feasibility problem (no objective)\n",
            "\t Testing an infeasible problem\n",
            "\t Testing an integer infeasible problem\n",
            "\t Testing another integer infeasible problem\n",
            "\t Testing column based modelling\n",
            "\t Testing fractional constraints\n",
            "\t Testing elastic constraints (no change)\n",
            "\t Testing elastic constraints (freebound)\n"
          ],
          "name": "stdout"
        },
        {
          "output_type": "stream",
          "text": [
            ".................."
          ],
          "name": "stderr"
        },
        {
          "output_type": "stream",
          "text": [
            "\t Testing elastic constraints (penalty unchanged)\n",
            "\t Testing elastic constraints (penalty unbounded)\n",
            "\t Testing invalid status\n",
            "\t Testing continuous LP solution - export dict\n",
            "\t Testing MIP solution\n",
            "\t Testing maximize continuous LP solution\n",
            "\t Testing continuous LP solution - export JSON\n",
            "\t Testing continuous LP solution - export solver dict\n",
            "\t Testing continuous LP solution - export solver JSON\n",
            "\t Testing makeDict general behavior\n",
            "\t Testing makeDict default value behavior\n",
            "\t Testing the availability of the function pulpTestAll\n",
            "\t Testing zero subtraction\n",
            "\t Testing inconsistent lp solution\n",
            "\t Testing continuous LP solution\n",
            "\t Testing maximize continuous LP solution\n"
          ],
          "name": "stdout"
        },
        {
          "output_type": "stream",
          "text": [
            ".................."
          ],
          "name": "stderr"
        },
        {
          "output_type": "stream",
          "text": [
            "\t Testing unbounded continuous LP solution\n",
            "\t Testing Long Names\n",
            "\t Testing repeated Names\n",
            "\t Testing zero constraint\n",
            "\t Testing zero objective\n",
            "\t Testing LpVariable (not LpAffineExpression) objective\n",
            "\t Testing LpAffineExpression divide\n",
            "\t Testing MIP solution\n",
            "\t Testing MIP solution with floats in objective\n",
            "\t Testing MIP solution\n",
            "\t Testing MIP solution\n",
            "\t Testing MIP relaxation\n",
            "\t Testing feasibility problem (no objective)\n",
            "\t Testing an infeasible problem\n",
            "\t Testing an integer infeasible problem\n",
            "\t Testing another integer infeasible problem\n"
          ],
          "name": "stdout"
        },
        {
          "output_type": "stream",
          "text": [
            "............"
          ],
          "name": "stderr"
        },
        {
          "output_type": "stream",
          "text": [
            "\t Testing column based modelling\n",
            "\t Testing fractional constraints\n",
            "\t Testing elastic constraints (no change)\n",
            "\t Testing elastic constraints (freebound)\n",
            "\t Testing elastic constraints (penalty unchanged)\n",
            "\t Testing elastic constraints (penalty unbounded)\n",
            "\t Testing invalid status\n",
            "\t Testing continuous LP solution - export dict\n"
          ],
          "name": "stdout"
        },
        {
          "output_type": "stream",
          "text": [
            "."
          ],
          "name": "stderr"
        },
        {
          "output_type": "stream",
          "text": [
            "\t Testing MIP solution\n"
          ],
          "name": "stdout"
        },
        {
          "output_type": "stream",
          "text": [
            "."
          ],
          "name": "stderr"
        },
        {
          "output_type": "stream",
          "text": [
            "\t Testing maximize continuous LP solution\n"
          ],
          "name": "stdout"
        },
        {
          "output_type": "stream",
          "text": [
            "."
          ],
          "name": "stderr"
        },
        {
          "output_type": "stream",
          "text": [
            "\t Testing continuous LP solution - export JSON\n"
          ],
          "name": "stdout"
        },
        {
          "output_type": "stream",
          "text": [
            "."
          ],
          "name": "stderr"
        },
        {
          "output_type": "stream",
          "text": [
            "\t Testing continuous LP solution - export solver dict\n"
          ],
          "name": "stdout"
        },
        {
          "output_type": "stream",
          "text": [
            "."
          ],
          "name": "stderr"
        },
        {
          "output_type": "stream",
          "text": [
            "\t Testing continuous LP solution - export solver JSON\n"
          ],
          "name": "stdout"
        },
        {
          "output_type": "stream",
          "text": [
            "......."
          ],
          "name": "stderr"
        },
        {
          "output_type": "stream",
          "text": [
            "\t Testing makeDict general behavior\n",
            "\t Testing makeDict default value behavior\n",
            "\t Testing the availability of the function pulpTestAll\n",
            "\t Testing zero subtraction\n",
            "\t Testing inconsistent lp solution\n",
            "\t Testing continuous LP solution\n"
          ],
          "name": "stdout"
        },
        {
          "output_type": "stream",
          "text": [
            "."
          ],
          "name": "stderr"
        },
        {
          "output_type": "stream",
          "text": [
            "\t Testing maximize continuous LP solution\n"
          ],
          "name": "stdout"
        },
        {
          "output_type": "stream",
          "text": [
            ".."
          ],
          "name": "stderr"
        },
        {
          "output_type": "stream",
          "text": [
            "\t Testing unbounded continuous LP solution\n",
            "\t Testing Long Names\n"
          ],
          "name": "stdout"
        },
        {
          "output_type": "stream",
          "text": [
            ".."
          ],
          "name": "stderr"
        },
        {
          "output_type": "stream",
          "text": [
            "\t Testing repeated Names\n",
            "\t Testing zero constraint\n"
          ],
          "name": "stdout"
        },
        {
          "output_type": "stream",
          "text": [
            "."
          ],
          "name": "stderr"
        },
        {
          "output_type": "stream",
          "text": [
            "\t Testing zero objective\n"
          ],
          "name": "stdout"
        },
        {
          "output_type": "stream",
          "text": [
            "."
          ],
          "name": "stderr"
        },
        {
          "output_type": "stream",
          "text": [
            "\t Testing LpVariable (not LpAffineExpression) objective\n"
          ],
          "name": "stdout"
        },
        {
          "output_type": "stream",
          "text": [
            ".."
          ],
          "name": "stderr"
        },
        {
          "output_type": "stream",
          "text": [
            "\t Testing LpAffineExpression divide\n"
          ],
          "name": "stdout"
        },
        {
          "output_type": "stream",
          "text": [
            "."
          ],
          "name": "stderr"
        },
        {
          "output_type": "stream",
          "text": [
            "\t Testing MIP solution\n"
          ],
          "name": "stdout"
        },
        {
          "output_type": "stream",
          "text": [
            "."
          ],
          "name": "stderr"
        },
        {
          "output_type": "stream",
          "text": [
            "\t Testing MIP solution with floats in objective\n"
          ],
          "name": "stdout"
        },
        {
          "output_type": "stream",
          "text": [
            "."
          ],
          "name": "stderr"
        },
        {
          "output_type": "stream",
          "text": [
            "\t Testing MIP solution\n"
          ],
          "name": "stdout"
        },
        {
          "output_type": "stream",
          "text": [
            "."
          ],
          "name": "stderr"
        },
        {
          "output_type": "stream",
          "text": [
            "\t Testing MIP solution\n"
          ],
          "name": "stdout"
        },
        {
          "output_type": "stream",
          "text": [
            "./usr/local/lib/python3.6/dist-packages/pulp/apis/choco_api.py:83: UserWarning: CHOCO_CMD cannot solve the relaxation of a problem\n",
            "  warnings.warn(\"CHOCO_CMD cannot solve the relaxation of a problem\")\n"
          ],
          "name": "stderr"
        },
        {
          "output_type": "stream",
          "text": [
            "\t Testing MIP relaxation\n"
          ],
          "name": "stdout"
        },
        {
          "output_type": "stream",
          "text": [
            "."
          ],
          "name": "stderr"
        },
        {
          "output_type": "stream",
          "text": [
            "\t Testing feasibility problem (no objective)\n"
          ],
          "name": "stdout"
        },
        {
          "output_type": "stream",
          "text": [
            "."
          ],
          "name": "stderr"
        },
        {
          "output_type": "stream",
          "text": [
            "\t Testing an infeasible problem\n"
          ],
          "name": "stdout"
        },
        {
          "output_type": "stream",
          "text": [
            "."
          ],
          "name": "stderr"
        },
        {
          "output_type": "stream",
          "text": [
            "\t Testing an integer infeasible problem\n"
          ],
          "name": "stdout"
        },
        {
          "output_type": "stream",
          "text": [
            "."
          ],
          "name": "stderr"
        },
        {
          "output_type": "stream",
          "text": [
            "\t Testing another integer infeasible problem\n"
          ],
          "name": "stdout"
        },
        {
          "output_type": "stream",
          "text": [
            "."
          ],
          "name": "stderr"
        },
        {
          "output_type": "stream",
          "text": [
            "\t Testing column based modelling\n"
          ],
          "name": "stdout"
        },
        {
          "output_type": "stream",
          "text": [
            "....."
          ],
          "name": "stderr"
        },
        {
          "output_type": "stream",
          "text": [
            "\t Testing fractional constraints\n"
          ],
          "name": "stdout"
        },
        {
          "output_type": "stream",
          "text": [
            "."
          ],
          "name": "stderr"
        },
        {
          "output_type": "stream",
          "text": [
            "\t Testing elastic constraints (no change)\n"
          ],
          "name": "stdout"
        },
        {
          "output_type": "stream",
          "text": [
            "."
          ],
          "name": "stderr"
        },
        {
          "output_type": "stream",
          "text": [
            "\t Testing elastic constraints (freebound)\n"
          ],
          "name": "stdout"
        },
        {
          "output_type": "stream",
          "text": [
            "."
          ],
          "name": "stderr"
        },
        {
          "output_type": "stream",
          "text": [
            "\t Testing elastic constraints (penalty unchanged)\n"
          ],
          "name": "stdout"
        },
        {
          "output_type": "stream",
          "text": [
            ".............."
          ],
          "name": "stderr"
        },
        {
          "output_type": "stream",
          "text": [
            "\t Testing elastic constraints (penalty unbounded)\n"
          ],
          "name": "stdout"
        },
        {
          "output_type": "stream",
          "text": [
            "........................."
          ],
          "name": "stderr"
        },
        {
          "output_type": "stream",
          "text": [
            "{'a': 53.0, 'b': 45.3, 'c': 459.2}\n"
          ],
          "name": "stdout"
        },
        {
          "output_type": "stream",
          "text": [
            ".......\n",
            "----------------------------------------------------------------------\n",
            "Ran 215 tests in 39.086s\n",
            "\n",
            "OK\n"
          ],
          "name": "stderr"
        }
      ]
    },
    {
      "cell_type": "code",
      "metadata": {
        "id": "gjNQttiC_Bcx",
        "colab": {
          "base_uri": "https://localhost:8080/",
          "height": 129
        },
        "outputId": "3cc183c6-45cf-4e7f-ec4f-5c3903e12389"
      },
      "source": [
        "Opis problemu do rozwiązania - A Blending Problem: https://coin-or.github.io/pulp/CaseStudies/a_blending_problem.html\n",
        "Zastanawiamy się jak najwięcej zarobić mająć ograniczenia. Robimy karme dla kotów, klient chce aby były spełnione normy produktu, \n",
        "czyli ma być odpowiednio różnych składników. Mamy określoną cene różnych produktów, a te określne produkty mają różne składniki \n",
        "Jaki mamy cel? -> Jak najtaniej (per opakowanie) wyprodukować karmę. \n",
        "Jakie zmienne decyzyjne? -> ilość składników, propocje muszą być większe bądź równe zero i muszą być mniejsze bądź równe 100%\n"
      ],
      "execution_count": null,
      "outputs": [
        {
          "output_type": "error",
          "ename": "SyntaxError",
          "evalue": "ignored",
          "traceback": [
            "\u001b[0;36m  File \u001b[0;32m\"<ipython-input-5-bfdc8ef00ce7>\"\u001b[0;36m, line \u001b[0;32m1\u001b[0m\n\u001b[0;31m    Opis problemu do rozwiązania - A Blending Problem: https://coin-or.github.io/pulp/CaseStudies/a_blending_problem.html\u001b[0m\n\u001b[0m                ^\u001b[0m\n\u001b[0;31mSyntaxError\u001b[0m\u001b[0;31m:\u001b[0m invalid syntax\n"
          ]
        }
      ]
    },
    {
      "cell_type": "code",
      "metadata": {
        "id": "clbok4UsuNbK"
      },
      "source": [
        "Pierwsze podejście do \"A Blending Problem\". Testuje model uproszczony, przy czym rozważam porównanie kurczaka i tuńczyka (Zamiast wołowiny). Wartości poszczególnych sładników odżywczych opisane są poniżej.  "
      ],
      "execution_count": null,
      "outputs": []
    },
    {
      "cell_type": "code",
      "metadata": {
        "colab": {
          "base_uri": "https://localhost:8080/"
        },
        "id": "sWdgJutZuj7t",
        "outputId": "cafbeaee-8aa5-4ab4-ff78-f526a716dd54"
      },
      "source": [
        "#Wymieniam beef na tuńczyka i przyjmuje kolejno: białko 0.25, tłuszcz 0.09, węgle 0.001, salt 0.007, cena to 0.011\n",
        "\n",
        "#Importowanie biblioteki PuLP do naszego programu\n",
        "from pulp import *\n",
        "\n",
        "#Inicjalizacja zmiennej do której będą dodawane warunki problemu. LpMinimize świadczy o fakcie, że dążymy do minimalizacji kosztów produkcji przy dostarczeniu odpowiednich sładników odżywczych.\n",
        "prob = LpProblem(\"The_Whiskas_Problem\",LpMinimize)\n",
        "\n",
        "#Zmienne x1 i x2 będą odpowiadać parametrom kolejno dla Kurczaka i Tuńczyka\n",
        "x1 = LpVariable(\"Kurczak\", 0, None, LpInteger)\n",
        "x2 = LpVariable(\"Tuńczyk\", 0, None, LpInteger)\n",
        "\n",
        "#Wykorzystujemy informacje dotyczące ceny danego produktu. Na stronie do której link został umieszczony wyżej znajdują się informacje co do Kurczaka. Tuńczyka przyjąłem według własnych upodobań. \n",
        "#Wiemy więc, że cena kurczaka to 0.013, a tuńzyka 0.011. W zależności od proporcji x1 (kurczak) i x2 (tuńczyk), będzie kształtować się cena za puszczkę produktu.\n",
        "prob += 0.013*x1 + 0.011*x2, \"Całkowity_koszt_na_opakowanie\"\n",
        "\n",
        "#Suma procentowa oznaczająca, że ostatecznie na jedną puszczkę musi przypadać 100% półproduktu. Nie może występować sytuacja, że puszczka będzie zapełniona pożywieniem w mniejszym stopniu.\n",
        "prob += x1 + x2 == 100, \"Suma_procentowa\"\n",
        "\n",
        "#Ilość białka nie może być mniejsza niż 8 (Zgodnie z \"A Blending Problem\"). Poniższy warunek przyjmuje znane wartości składu x1 i x2 i zapewnia iż wartość białka musi być większa bądź równa 8. \n",
        "prob += 0.100*x1 + 0.250*x2 >= 8.0, \"Białko \"\n",
        "\n",
        "#Podobnie jak powyżej, tym razem zawartość tłuszczu w puszce nie może być mniejsza niż 6.\n",
        "prob += 0.080*x1 + 0.090*x2 >= 6.0, \"Tłuszcz\"\n",
        "\n",
        "#Zawartość węglowodanów musi być mniejsza bądź równa 2 na puszkę.\n",
        "prob += 0.001*x1 + 0.001*x2 <= 2.0, \"Węgle\"\n",
        "\n",
        "#Zawartość soli musi być mniejsza bądź równa 0.4 na puszkę. Należy zaznaczyć, że jest to warunek w naszym przypadku bardzo znaczący. Przyjąłem bardzo korzystne warunki dla tuńczyka (czyt. cene, białko, tłuszcz, węglowodany)\n",
        "#Pomimo tego, tuńczyk charakteryzuje się wysoką zawartością soli. Gdyby nie ten warunek, kurczak nie miałby sensu pojawić się w składzie karmy. \n",
        "prob += 0.002*x1 + 0.007*x2 <= 0.4, \"Sól\"\n",
        "\n",
        "#Przypisanie nazwy naszego problemu\n",
        "prob.writeLP(\"WhiskasModel.lp\")\n",
        "\n",
        "#Wywołaniue funkcji rozwiązującej problem przy założeniu wyżej omawianyh warunków\n",
        "prob.solve()\n",
        "\n",
        "#Wyprintowanie statusu problemu. Czy jest on możliwy do rozwiązania czy też nie i jaki poziom przyjmuje\n",
        "print(\"Status: \", LpStatus[prob.status])\n",
        "\n",
        "#Wyprintowanie nazw naszych zmiennych x1 (kurczak) i x2 (tuńczyk) oraz odpowiadający im udział procentowy na puszkę\n",
        "for v in prob.variables():\n",
        "  print(v.name, \"=\", v.varValue)\n",
        "\n",
        "#Wyprintowanie kosztu jednej puszki karmy\n",
        "print(\"Całkowity koszt jednej puszki = \", value(prob.objective))"
      ],
      "execution_count": 12,
      "outputs": [
        {
          "output_type": "stream",
          "text": [
            "Status:  Optimal\n",
            "Kurczak = 60.0\n",
            "Tuńczyk = 40.0\n",
            "Całkowity koszt jednej puszki =  1.2199999999999998\n"
          ],
          "name": "stdout"
        }
      ]
    },
    {
      "cell_type": "code",
      "metadata": {
        "id": "WIu0Z3Ey0KY9"
      },
      "source": [
        "Drugie podejście do \"A Blending Problem\". Tym razem testuje rozwinięty model uwzględniający inne składniki takie jak baranine, ryż, przenice czy żel."
      ],
      "execution_count": null,
      "outputs": []
    },
    {
      "cell_type": "code",
      "metadata": {
        "colab": {
          "base_uri": "https://localhost:8080/"
        },
        "id": "b10cpQWmJNHn",
        "scrolled": true,
        "outputId": "d47fe87e-9549-4f3d-9dbc-f1d228265b3a"
      },
      "source": [
        "#Wymieniam beef na tuńczyka i przyjmuje kolejno: białko 0.3, tłuszcz 0.09, węgle 0.001, salt 0.007, cena to 0.02\n",
        "#Należy zaznaczyć, że tym razem przyjąłem inne parametry tuńczyka niż w modelu uproszczonym. \n",
        "\n",
        "#Importowanie biblioteki PuLP do naszego programu\n",
        "from pulp import *\n",
        "\n",
        "#Lista nazw naszych półproduktów\n",
        "Ingredients = ['CHICKEN', 'TUNA', 'MUTTON', 'RICE', 'WHEAT', 'GEL']\n",
        "\n",
        "#Przypisanie do słowników wartości dla poszczególnych półproduktów. Kolejno cena, białko, tłuszcz, węglowodany, sól. Wartości dla tuńczyka zostały opisane powyżej. Dla pozostałych składników dostępne są w linku:\n",
        "#https://coin-or.github.io/pulp/CaseStudies/a_blending_problem.html\n",
        "costs = {'CHICKEN': 0.013,\n",
        "         'TUNA': 0.020,\n",
        "         'MUTTON': 0.150,\n",
        "         'RICE': 0.000,\n",
        "         'WHEAT': 0.040,\n",
        "         'GEL': 0.000}\n",
        "\n",
        "proteinPercent = {'CHICKEN': 0.100, \n",
        "                  'TUNA': 0.300, \n",
        "                  'MUTTON': 0.150, \n",
        "                  'RICE': 0.000, \n",
        "                  'WHEAT': 0.040, \n",
        "                  'GEL': 0.000}\n",
        "\n",
        "fatPercent = {'CHICKEN': 0.080, \n",
        "              'TUNA': 0.090, \n",
        "              'MUTTON': 0.110, \n",
        "              'RICE': 0.010, \n",
        "              'WHEAT': 0.010, \n",
        "              'GEL': 0.000}\n",
        "\n",
        "fibrePercent = {'CHICKEN': 0.001, \n",
        "                'TUNA': 0.001, \n",
        "                'MUTTON': 0.003, \n",
        "                'RICE': 0.100, \n",
        "                'WHEAT': 0.150, \n",
        "                'GEL': 0.000}\n",
        "\n",
        "saltPercent = {'CHICKEN': 0.002, \n",
        "               'TUNA': 0.007, \n",
        "               'MUTTON': 0.007, \n",
        "               'RICE': 0.002, \n",
        "               'WHEAT': 0.008, \n",
        "               'GEL': 0.000}\n",
        "\n",
        "#Inicjalizacja zmiennej do której będą dodawane warunki problemu. LpMinimize świadczy o fakcie, że dążymy do minimalizacji kosztów produkcji przy dostarczeniu odpowiednich sładników odżywczych.\n",
        "prob = LpProblem(\"The whiskas problem\", LpMinimize)\n",
        "\n",
        "#Tworzymy słownik dla zmiennych dostępnych dla biblioteki PuLP w celu klarowności kodu i łatwiejszego przeprowadzenia poniższych operacji \n",
        "ingredient_vars = LpVariable.dicts(\"Ingr\", Ingredients, 0)\n",
        "\n",
        "#Pierwszy warunek dający nam infomracje zwrotną o kosztach wyprodukowania jednej puszki. Z słownika \"costs\" pobierana jest cena danego produktu i mnożona z daną zmienną x1, x2...Przy czym każde xn to kolejny półprodukt np. x1 = \"CHICKEN\", x2 = \"TUNA\"...\n",
        "#W zależności od dobranego przez program składu, otrzymamy cene, która przez ten probram ma zostać zminimalizowana przy zachowaniu poniżej omawianych warunków. \n",
        "prob += lpSum([costs[i]*ingredient_vars[i] for i in Ingredients]), \"Total Cost of Ingredients per can\"\n",
        "\n",
        "#Suma procentowa oznacza, że niezależnie od doboru składników, musi ona ostatecznie wynosić 100%, to znaczy puszka musi zostać zapełniona mieszanką w 100%.\n",
        "prob += lpSum([ingredient_vars[i] for i in Ingredients]) == 100, \"PercentagesSum\"\n",
        "\n",
        "#Warunki poszczególnych wartości odżywczych takie same jak w modelu uproszczonym. Kolejno przyjmowane: białko, tłuszcz, węglowodany, sól.\n",
        "prob += lpSum([proteinPercent[i] * ingredient_vars[i] for i in Ingredients]) >= 8.0, \"ProteinRequirement\"\n",
        "prob += lpSum([fatPercent[i] * ingredient_vars[i] for i in Ingredients]) >= 6.0, \"FatRequirement\"\n",
        "prob += lpSum([fibrePercent[i] * ingredient_vars[i] for i in Ingredients]) <= 2.0, \"FibreRequirement\"\n",
        "prob += lpSum([saltPercent[i] * ingredient_vars[i] for i in Ingredients]) <= 0.4, \"SaltRequirement\"\n",
        "\n",
        "#Funkcja rozwiązująca problem na podstawie powyższych warunków\n",
        "prob.solve()\n",
        "\n",
        "#Wyprintowanie statusu problemu. Czy jest on możliwy do rozwiązania czy też nie i jaki poziom przyjmuje\n",
        "print(\"Status: \", LpStatus[prob.status])\n",
        "\n",
        "#Wyprintowanie nazw zmiennych z odpowiadającym im udziałem procentowym na puszkę\n",
        "for v in prob.variables():\n",
        "  print(v.name, \"=\", v.varValue)\n",
        "\n",
        "#Wyprintowanie kosztu jednej puszki karmy\n",
        "print(\"Total Cost of Ingredients per can = \", value(prob.objective))"
      ],
      "execution_count": 14,
      "outputs": [
        {
          "output_type": "stream",
          "text": [
            "Status:  Optimal\n",
            "Ingr_CHICKEN = 68.144192\n",
            "Ingr_GEL = 8.6248331\n",
            "Ingr_MUTTON = 0.0\n",
            "Ingr_RICE = 19.279039\n",
            "Ingr_TUNA = 3.9519359\n",
            "Ingr_WHEAT = 0.0\n",
            "Total Cost of Ingredients per can =  0.9649132140000001\n"
          ],
          "name": "stdout"
        },
        {
          "output_type": "stream",
          "text": [
            "/usr/local/lib/python3.6/dist-packages/pulp/pulp.py:1198: UserWarning: Spaces are not permitted in the name. Converted to '_'\n",
            "  warnings.warn(\"Spaces are not permitted in the name. Converted to '_'\")\n"
          ],
          "name": "stderr"
        }
      ]
    },
    {
      "cell_type": "code",
      "metadata": {
        "id": "0glXzHgk42Bx"
      },
      "source": [
        "Podejście trzecie do \"A Blending Problem\". Wymieniam tuńczyka na sardynki. Testowanie sliderów. Wszystkie parametry sardynek można modyfikować przy pomocy poziomych sliderów z wyjątkiem witamy B,\n",
        "której wartość jest określona w zadaniu: https://github.com/AdoHaha/misp/blob/master/instalacja_pierwsze_cwiczenia_z_Pulp.ipynb\n",
        "Ze względu na fakt, że podejście trzecie jest bliżone formą do podejścia drugiego, rezygnuje z okomentowania poniższego kodu. "
      ],
      "execution_count": null,
      "outputs": []
    },
    {
      "cell_type": "code",
      "metadata": {
        "id": "r9i00JjCnAu3",
        "colab": {
          "base_uri": "https://localhost:8080/",
          "height": 330,
          "referenced_widgets": [
            "2ea8b053284d4fb3848e4daec85c8a03",
            "8613856082e14998b244ec323fb199f7",
            "ea8467ff489f422790459784043cbfa3",
            "82354c8a1fba48dabca4468737254bd7",
            "26fa76fe641a4f1e87e4cdf6d481c64c",
            "59e494cb0da146eca6991a598e035ed2",
            "070c0997cc754789bfcdba87c793b426",
            "4ced728bfdcb4d0382bd3d80d5a403b7",
            "054e991b93bc4652881dd4bf1a8045fa",
            "6b2806f6326e4532b234bddd16ff5a3b",
            "07d1dec18ca84ff299b4fdeacbe82a30",
            "866f3245bbb0439083d9fc9255787648",
            "5cc5e8d1ddd24d28983be91cf56e4a56",
            "85fccdc552e04f838989096c0bafa48a",
            "e8cf8d901b0f41d7aea49fe8a909b559",
            "9a0e5d66a91a4898a1b2cd827776e244",
            "4a6f8d116e8648a6a56d8b736a37add2",
            "2624f7da2e464199a831a782b1712283",
            "21af4a49f8d84ffdbd43a454209b2eb7"
          ]
        },
        "outputId": "2e26b2d0-7306-4121-f11a-0c95ed046fef"
      },
      "source": [
        "from pulp import *\n",
        "from __future__ import print_function\n",
        "from ipywidgets import interact, interactive, fixed, interact_manual, Layout, FloatSlider, IntSlider\n",
        "import ipywidgets as widgets\n",
        "import pandas as pd\n",
        "\n",
        "style = {'description_width': 'initial'}\n",
        "sardynki_cena_slider = FloatSlider(min=0,max = 1, value= 0.014, description=\"sardynki_cena_slider\", style= style )\n",
        "sardynki_bialko_slider = FloatSlider(min=0,max = 1,value= 0.3, description=\"sardynki_bialko_slider\", style= style )\n",
        "sardynki_tluszcz_slider = FloatSlider(min=0,max = 1,value= 0.04, description=\"sardynki_tluszcz_slider\", style= style )\n",
        "sardynki_weglowodany_slider = FloatSlider(min=0,max = 1,value= 0.001, description=\"sardynki_weglowodany_slider\", style= style )\n",
        "sardynki_sol_slider = FloatSlider(min=0,max = 1,value= 0.003, description=\"sardynki_sol_slider\", style= style )\n",
        "\n",
        "\n",
        "def a_blending_problem(sardynki_cena = 0.014, sardynki_bialko = 0.3, sardynki_tluszcz = 0.04, sardynki_weglowodany = 0.001, sardynki_sol = 0.003):\n",
        "  Skladniki = ['KURCZAK', 'SARDYNKI', 'WOŁOWINA', 'BARANINA', 'RYŻ', 'PRZENICA', 'ŻEL']\n",
        "\n",
        "  koszt = {'KURCZAK': 0.013,  \n",
        "          'SARDYNKI': sardynki_cena,\n",
        "          'WOŁOWINA': 0.008,\n",
        "          'BARANINA': 0.010,\n",
        "          'RYŻ': 0.002,\n",
        "          'PRZENICA': 0.005,\n",
        "          'ŻEL': 0.001}\n",
        "\n",
        "  bialko = {'KURCZAK': 0.100,\n",
        "          'SARDYNKI': sardynki_bialko,\n",
        "          'WOŁOWINA': 0.200,\n",
        "          'BARANINA': 0.150,\n",
        "          'RYŻ': 0.000,\n",
        "          'PRZENICA': 0.040,\n",
        "          'ŻEL': 0.000}\n",
        "\n",
        "  tluszcz = {'KURCZAK': 0.080,\n",
        "          'SARDYNKI': sardynki_tluszcz,\n",
        "          'WOŁOWINA': 0.100,\n",
        "          'BARANINA': 0.110,\n",
        "          'RYŻ': 0.010,\n",
        "          'PRZENICA': 0.010,\n",
        "          'ŻEL': 0.000}\n",
        "\n",
        "  weglowodany = {'KURCZAK': 0.001,\n",
        "                'SARDYNKI': sardynki_weglowodany,\n",
        "                'WOŁOWINA': 0.005,\n",
        "                'BARANINA': 0.003,\n",
        "                'RYŻ': 0.100,\n",
        "                'PRZENICA': 0.150,\n",
        "                'ŻEL': 0.000}\n",
        "\n",
        "  sol = {'KURCZAK': 0.002,\n",
        "        'SARDYNKI': sardynki_sol,\n",
        "        'WOŁOWINA': 0.005,\n",
        "        'BARANINA': 0.007,\n",
        "        'RYŻ': 0.002,\n",
        "        'PRZENICA': 0.008,\n",
        "        'ŻEL': 0.000}\n",
        "\n",
        "  witaminaB = {'KURCZAK': 0.3,\n",
        "              'SARDYNKI': 8.9,\n",
        "              'WOŁOWINA': 2.6,\n",
        "              'BARANINA': 2.6,\n",
        "              'RYŻ': 0.0,\n",
        "              'PRZENICA': 0.0,\n",
        "              'ŻEL': 0.0}\n",
        "\n",
        "  zmiennaLpProblem = LpProblem(\"Problem Whiskasa\", LpMinimize)\n",
        "\n",
        "  slownikZmienne = LpVariable.dicts('Skladniki', Skladniki, 0)\n",
        "\n",
        "  zmiennaLpProblem += lpSum([koszt[i]*slownikZmienne[i] for i in Skladniki]), \"Całkowity koszt sładników na puszkę\"\n",
        "  zmiennaLpProblem += lpSum([slownikZmienne[i] for i in Skladniki]) == 100, \"Suma procentowa\"\n",
        "  zmiennaLpProblem += lpSum([bialko[i] * slownikZmienne[i] for i in Skladniki]) >= 8.0, \"Zawartość białka w puszce\"\n",
        "  zmiennaLpProblem += lpSum([tluszcz[i] * slownikZmienne[i] for i in Skladniki]) >= 6.0, \"Zawartość tłuszczu w puszce\"\n",
        "  zmiennaLpProblem += lpSum([weglowodany[i] * slownikZmienne[i] for i in Skladniki]) <= 2.0, \"Zawartość węglowodanów w puszce\"\n",
        "  zmiennaLpProblem += lpSum([sol[i] * slownikZmienne[i] for i in Skladniki]) <= 0.4, \"Zawartość soli w puszce\"\n",
        "  zmiennaLpProblem += lpSum([witaminaB[i] * slownikZmienne[i] for i in Skladniki]) >= 0.8, \"Zawartość witaminy B w puszce\"\n",
        "\n",
        "\n",
        "  zmiennaLpProblem.solve()\n",
        "\n",
        "  print(\"Końcowy produkt będzie kosztować \", value(zmiennaLpProblem.objective))\n",
        "  for v in zmiennaLpProblem.variables():\n",
        "    print(\"będzie miał \", v.name, \" : \", v.varValue,\"%\")\n",
        "  \n",
        "interact(a_blending_problem, sardynki_cena = sardynki_cena_slider,\n",
        "         sardynki_bialko = sardynki_bialko_slider,\n",
        "         sardynki_tluszcz = sardynki_tluszcz_slider,\n",
        "         sardynki_weglowodany = sardynki_weglowodany_slider,\n",
        "         sardynki_sol = sardynki_sol_slider)\n"
      ],
      "execution_count": 31,
      "outputs": [
        {
          "output_type": "display_data",
          "data": {
            "application/vnd.jupyter.widget-view+json": {
              "model_id": "2ea8b053284d4fb3848e4daec85c8a03",
              "version_minor": 0,
              "version_major": 2
            },
            "text/plain": [
              "interactive(children=(FloatSlider(value=0.014, description='sardynki_cena_slider', max=1.0, style=SliderStyle(…"
            ]
          },
          "metadata": {
            "tags": []
          }
        },
        {
          "output_type": "execute_result",
          "data": {
            "text/plain": [
              "<function __main__.a_blending_problem>"
            ]
          },
          "metadata": {
            "tags": []
          },
          "execution_count": 31
        }
      ]
    }
  ]
}