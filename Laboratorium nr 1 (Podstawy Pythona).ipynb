#### challenge 0.1

#Tablica z podziałem konkretnych zajęć
zajecia = ["wf","informatyka","relax","mispy","piateczek"]
#Tablica z podziałem na dni tygodnia
dnityg= ["Pon","Wto","Sro","Czwar","Pio"]

# ZADANIE: wyprintuj zajecia od srody do piatku
#Pętla łącząca ze sobą tablice "zajecia" i "dnityg", po przeprowadzeniu przez warunek "if wynik > 1" zostają wyprintowane zajęcia od środy do piątku
for wynik, (zajecia, dnityg) in enumerate(zip(dnityg,zajecia)):
  if wynik > 1:
    print("W {} zajecia to: {}".format(zajecia, dnityg))

#Dla przejrzystości kodu oddzielam oba zadania przy pomocy poniższej linijki:
print("--"*10)

# ZADANIE: wyprintuj oprocz srody
#Tablica z podziałem konkretnych zajęć
zajecia = ["wf","informatyka","relax","mispy","piateczek"]
#Tablica z podziałem na dni tygodnia
dnityg= ["Pon","Wto","Sro","Czwar","Pio"]

#Pętla łącząca ze sobą tablice "zajecia" i "dnityg", po przeprowadzeniu przez warunek "if wynik != 2" zostają wyprintowane wszystkie zajęcia oprócz środy
for wynik, (zajecia, dnityg) in enumerate(zip(dnityg,zajecia)):
  if wynik != 2:
    print("W {} zajecia to: {}".format(zajecia, dnityg))
