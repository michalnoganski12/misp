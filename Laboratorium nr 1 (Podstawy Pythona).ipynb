{
 "cells": [
  {
   "cell_type": "code",
   "execution_count": 4,
   "metadata": {
    "colab": {
     "base_uri": "https://localhost:8080/"
    },
    "id": "Z7e1emC13gMe",
    "outputId": "486c836b-0395-4b7f-b10b-885e4efafc2c",
    "scrolled": false
   },
   "outputs": [
    {
     "name": "stdout",
     "output_type": "stream",
     "text": [
      "W Sro zajecia to: relax\n",
      "W Czwar zajecia to: mispy\n",
      "W Pio zajecia to: piateczek\n",
      "--------------------\n",
      "W Pon zajecia to: wf\n",
      "W Wto zajecia to: informatyka\n",
      "W Czwar zajecia to: mispy\n",
      "W Pio zajecia to: piateczek\n"
     ]
    }
   ],
   "source": [
    "#### challenge 0.1\n",
    "\n",
    "#Tablica z podziałem konkretnych zajęć\n",
    "zajecia = [\"wf\",\"informatyka\",\"relax\",\"mispy\",\"piateczek\"]\n",
    "#Tablica z podziałem na dni tygodnia\n",
    "dnityg= [\"Pon\",\"Wto\",\"Sro\",\"Czwar\",\"Pio\"]\n",
    "\n",
    "# ZADANIE: wyprintuj zajecia od srody do piatku\n",
    "#Pętla łącząca ze sobą tablice \"zajecia\" i \"dnityg\", po przeprowadzeniu przez warunek \"if wynik > 1\" zostają wyprintowane zajęcia od środy do piątku\n",
    "for wynik, (zajecia, dnityg) in enumerate(zip(dnityg,zajecia)):\n",
    "  if wynik > 1:\n",
    "    print(\"W {} zajecia to: {}\".format(zajecia, dnityg))\n",
    "\n",
    "#Dla przejrzystości kodu oddzielam oba zadania przy pomocy poniższej linijki:\n",
    "print(\"--\"*10)\n",
    "\n",
    "# ZADANIE: wyprintuj oprocz srody\n",
    "#Tablica z podziałem konkretnych zajęć\n",
    "zajecia = [\"wf\",\"informatyka\",\"relax\",\"mispy\",\"piateczek\"]\n",
    "#Tablica z podziałem na dni tygodnia\n",
    "dnityg= [\"Pon\",\"Wto\",\"Sro\",\"Czwar\",\"Pio\"]\n",
    "\n",
    "#Pętla łącząca ze sobą tablice \"zajecia\" i \"dnityg\", po przeprowadzeniu przez warunek \"if wynik != 2\" zostają wyprintowane wszystkie zajęcia oprócz środy\n",
    "for wynik, (zajecia, dnityg) in enumerate(zip(dnityg,zajecia)):\n",
    "  if wynik != 2:\n",
    "    print(\"W {} zajecia to: {}\".format(zajecia, dnityg))"
   ]
  },
  {
   "cell_type": "code",
   "execution_count": 11,
   "metadata": {
    "colab": {
     "base_uri": "https://localhost:8080/",
     "height": 34
    },
    "id": "5zprxpan3gMh",
    "outputId": "2aee3d85-8468-4e04-ddc8-d6514daeeb14"
   },
   "outputs": [
    {
     "name": "stdout",
     "output_type": "stream",
     "text": [
      "Podaj dzień tygodnia (Pon,Wto,Sro,Czwar,Pio): Pon\n",
      "W tym dniu zajęć jest:  1\n",
      "-------------------------------------------------------------------------------------------\n",
      "|Posortowane dni od najbardziej zajętych:\n",
      "|Dzień:  Pio ponieważ są zajęcia:  ['piateczek', 'praca domowa z mispow', 'Ilovemispy', 'mispy w czasie snu']\n",
      "|Dzień:  Wto ponieważ są zajęcia:  ['informatyka', 'nauka czytania']\n",
      "|Dzień:  Sro ponieważ są zajęcia:  ['relax', 'jedzenie']\n",
      "|Dzień:  Czwar ponieważ są zajęcia:  ['mispy', 'mispy w domu']\n",
      "|Dzień:  Pon ponieważ są zajęcia:  ['wf']\n",
      "-------------------------------------------------------------------------------------------\n"
     ]
    }
   ],
   "source": [
    "#### challenge 0.2\n",
    "#Tablice z danymi to zadania\n",
    "zajecia = [[\"wf\"],\n",
    "           [\"informatyka\", \"nauka czytania\"],\n",
    "           [\"relax\", \"jedzenie\"],\n",
    "           [\"mispy\",\"mispy w domu\"],\n",
    "           [\"piateczek\", \"praca domowa z mispow\", \"Ilovemispy\", \"mispy w czasie snu\"]\n",
    "          ]\n",
    "\n",
    "dnityg= [\"Pon\",\"Wto\",\"Sro\",\"Czwar\",\"Pio\"]\n",
    "\n",
    "#Definiowanie funkcji do rozwiązania zadania\n",
    "def lista_zajec_z_dnia(dzien):\n",
    "  ile_ich_jest = 0\n",
    "  number = dnityg.index(dzien)\n",
    "  for x in zajecia[number]:\n",
    "    ile_ich_jest += 1\n",
    "  print(\"W tym dniu zajęć jest: \", ile_ich_jest)\n",
    "#Definiowanie tablicy do dalszych rozważań \n",
    "tablica = [\"\"]\n",
    "\n",
    "# ZADANIE: zdefiniuj funkcje ktora poda ile jest zajec danego dnia\n",
    "#          lista_zajec_z_dnia -> ile ich jest\n",
    "\n",
    "#Pobieranie informacji, z którego dnia użytkownik chce uzyskać odpowiedź \n",
    "dzien = input(\"Podaj dzień tygodnia (Pon,Wto,Sro,Czwar,Pio): \")\n",
    "#Obsługa odpowiedzi użytkownika wewnątrz funkcji \n",
    "lista_zajec_z_dnia(dzien)\n",
    "\n",
    "# po\n",
    "# posortuj dni po najbardziej zajetych\n",
    "del tablica[:]\n",
    "i=0\n",
    "dlugosc_tab_zajecia = len(zajecia)\n",
    "dlugosc_tab_dnityg = len(dnityg)\n",
    "\n",
    "\n",
    "if dlugosc_tab_zajecia == dlugosc_tab_dnityg:\n",
    "  for i in range (dlugosc_tab_dnityg):\n",
    "    tablica.append([dnityg[i], zajecia[i], len(zajecia[i])])\n",
    "else:\n",
    "  print(\"Błąd! Podział zajęć jest niepełny, podaj przynajmniej jedno zadanie na jeden dzień tygodnia! \")\n",
    "\n",
    "posortowana_tablica = sorted(tablica, key=lambda l: l[2], reverse=True)\n",
    "print(\"-------------------------------------------------------------------------------------------\")\n",
    "print(\"|Posortowane dni od najbardziej zajętych:\")\n",
    "for i in range (dlugosc_tab_dnityg):\n",
    "  print(\"|Dzień: \", posortowana_tablica[i][0], \"ponieważ są zajęcia: \", posortowana_tablica[i][1])\n",
    "print(\"-------------------------------------------------------------------------------------------\")\n"
   ]
  },
  {
   "cell_type": "code",
   "execution_count": 5,
   "metadata": {},
   "outputs": [
    {
     "name": "stdout",
     "output_type": "stream",
     "text": [
      "Największa ilość mispów jest w: Pio\n"
     ]
    }
   ],
   "source": [
    "#### challenge 0.3\n",
    "\n",
    "# napisz program ktory zdajdzie dzien z najwieksza iloscia mispow\n",
    "\n",
    "#Tablice z danymi do zadania\n",
    "zajecia = [[\"wf\"],\n",
    "           [\"informatyka\", \"nauka czytania\"],\n",
    "           [\"relax\", \"jedzenie\"],\n",
    "           [\"mispy\",\"mispy w domu\"],\n",
    "           [\"piateczek\", \"praca domowa z mispow\", \"Ilovemispy\", \"mispy w czasie snu\"]\n",
    "          ]\n",
    "\n",
    "dnityg= [\"Pon\",\"Wto\",\"Sro\",\"Czwar\",\"Pio\"]\n",
    "\n",
    "#Definiowanie tablicy\n",
    "tab = []\n",
    "\n",
    "#Pętla szukająca największej ilości występowania słowa \"misp\" w tablicy zajecia\n",
    "for i in range(len(zajecia)):\n",
    "  ile_mispow = 0\n",
    "  for j in range(len(zajecia[i])):\n",
    "    text = zajecia[i][j]\n",
    "    szukaj = text.find(\"misp\")\n",
    "    if szukaj != -1:\n",
    "      ile_mispow += 1\n",
    "  tab.append(ile_mispow)\n",
    "\n",
    "ile = tab.index(max(tab))\n",
    "print(\"Największa ilość mispów jest w:\", dnityg[ile])"
   ]
  },
  {
   "cell_type": "code",
   "execution_count": null,
   "metadata": {},
   "outputs": [],
   "source": []
  }
 ],
 "metadata": {
  "colab": {
   "name": "podstawy_python_jupyter.ipynb",
   "provenance": []
  },
  "kernelspec": {
   "display_name": "Python 3",
   "language": "python",
   "name": "python3"
  },
  "language_info": {
   "codemirror_mode": {
    "name": "ipython",
    "version": 3
   },
   "file_extension": ".py",
   "mimetype": "text/x-python",
   "name": "python",
   "nbconvert_exporter": "python",
   "pygments_lexer": "ipython3",
   "version": "3.8.3"
  }
 },
 "nbformat": 4,
 "nbformat_minor": 1
}
