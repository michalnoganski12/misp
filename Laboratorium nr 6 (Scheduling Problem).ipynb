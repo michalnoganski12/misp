{
  "nbformat": 4,
  "nbformat_minor": 0,
  "metadata": {
    "colab": {
      "name": "PuLP_moje (1).ipynb",
      "provenance": [],
      "collapsed_sections": []
    },
    "kernelspec": {
      "display_name": "Python 3",
      "language": "python",
      "name": "python3"
    },
    "language_info": {
      "codemirror_mode": {
        "name": "ipython",
        "version": 3
      },
      "file_extension": ".py",
      "mimetype": "text/x-python",
      "name": "python",
      "nbconvert_exporter": "python",
      "pygments_lexer": "ipython3",
      "version": "3.8.3"
    }
  },
  "cells": [
    {
      "cell_type": "code",
      "metadata": {
        "colab": {
          "base_uri": "https://localhost:8080/"
        },
        "id": "ybXv0mY98RcV",
        "outputId": "d0fa1da9-0eb2-4816-ccf3-2508f72dec06"
      },
      "source": [
        "#Instalacja biblioteki PuLP\n",
        "!pip install pulp\n"
      ],
      "execution_count": 1,
      "outputs": [
        {
          "output_type": "stream",
          "text": [
            "Collecting pulp\n",
            "\u001b[?25l  Downloading https://files.pythonhosted.org/packages/89/0c/6d80f5f81a92d1733cc5ca180491b8a3cd5839e335627a0046c81b7d3d3d/PuLP-2.3.1-py3-none-any.whl (40.6MB)\n",
            "\u001b[K     |████████████████████████████████| 40.6MB 106kB/s \n",
            "\u001b[?25hCollecting amply>=0.1.2\n",
            "  Downloading https://files.pythonhosted.org/packages/f3/c5/dfa09dd2595a2ab2ab4e6fa7bebef9565812722e1980d04b0edce5032066/amply-0.1.4-py3-none-any.whl\n",
            "Requirement already satisfied: docutils>=0.3 in /usr/local/lib/python3.6/dist-packages (from amply>=0.1.2->pulp) (0.16)\n",
            "Requirement already satisfied: pyparsing in /usr/local/lib/python3.6/dist-packages (from amply>=0.1.2->pulp) (2.4.7)\n",
            "Installing collected packages: amply, pulp\n",
            "Successfully installed amply-0.1.4 pulp-2.3.1\n"
          ],
          "name": "stdout"
        }
      ]
    },
    {
      "cell_type": "code",
      "metadata": {
        "colab": {
          "base_uri": "https://localhost:8080/"
        },
        "id": "zhpZXCjq9bMC",
        "scrolled": true,
        "outputId": "972f50aa-911c-4744-e69e-674507e9f33f"
      },
      "source": [
        "#Załączamy zainstalowaną bibliotekę i sprawdzamy wersje\n",
        "import pulp\n",
        "\n",
        "print(pulp.__version__)"
      ],
      "execution_count": 2,
      "outputs": [
        {
          "output_type": "stream",
          "text": [
            "2.3.1\n"
          ],
          "name": "stdout"
        }
      ]
    },
    {
      "cell_type": "code",
      "metadata": {
        "colab": {
          "base_uri": "https://localhost:8080/"
        },
        "id": "1CMqIZIx-eth",
        "outputId": "4a2cc5a8-15c8-4790-b422-f6719db59651"
      },
      "source": [
        "#Instalacja pozostałych narzędzi niezbędnych do przeprowadzenia zadań\n",
        "!sudo apt-get install coinor-cbc glpk-utils coinor-clp"
      ],
      "execution_count": 4,
      "outputs": [
        {
          "output_type": "stream",
          "text": [
            "Reading package lists... Done\n",
            "Building dependency tree       \n",
            "Reading state information... Done\n",
            "coinor-cbc is already the newest version (2.9.9+repack1-1).\n",
            "coinor-clp is already the newest version (1.16.11+repack1-1).\n",
            "glpk-utils is already the newest version (4.65-1).\n",
            "0 upgraded, 0 newly installed, 0 to remove and 14 not upgraded.\n"
          ],
          "name": "stdout"
        }
      ]
    },
    {
      "cell_type": "code",
      "metadata": {
        "colab": {
          "base_uri": "https://localhost:8080/"
        },
        "id": "HxOPJqBC-xwR",
        "outputId": "9383e28b-6eb5-4f66-ecaf-22ebdc7c82ba"
      },
      "source": [
        "#Sprawdzamy dostępność poszczególnych narzędzi biblioteki PuLP. \n",
        "pulp.pulpTestAll()"
      ],
      "execution_count": 5,
      "outputs": [
        {
          "output_type": "stream",
          "text": [
            ".............."
          ],
          "name": "stderr"
        },
        {
          "output_type": "stream",
          "text": [
            "Solver <class 'pulp.apis.coin_api.PULP_CBC_CMD'> available\n",
            "Solver <class 'pulp.apis.cplex_api.CPLEX_DLL'> unavailable\n",
            "Solver <class 'pulp.apis.cplex_api.CPLEX_CMD'> unavailable\n",
            "Solver <class 'pulp.apis.cplex_api.CPLEX_PY'> unavailable\n",
            "Solver <class 'pulp.apis.coin_api.COIN_CMD'> available\n",
            "Solver <class 'pulp.apis.coin_api.COINMP_DLL'> unavailable\n",
            "Solver <class 'pulp.apis.glpk_api.GLPK_CMD'> available\n",
            "Solver <class 'pulp.apis.xpress_api.XPRESS'> unavailable\n",
            "Solver <class 'pulp.apis.gurobi_api.GUROBI'> unavailable\n",
            "Solver <class 'pulp.apis.gurobi_api.GUROBI_CMD'> unavailable\n",
            "Solver <class 'pulp.apis.glpk_api.PYGLPK'> unavailable\n",
            "Solver <class 'pulp.apis.coin_api.YAPOSIB'> unavailable\n",
            "Solver <class 'pulp.apis.choco_api.PULP_CHOCO_CMD'> available\n",
            "Solver <class 'pulp.apis.choco_api.CHOCO_CMD'> unavailable\n",
            "Solver <class 'pulp.apis.mipcl_api.MIPCL_CMD'> unavailable\n",
            "Solver <class 'pulp.apis.mosek_api.MOSEK'> unavailable\n",
            "Solver <class 'pulp.apis.scip_api.SCIP_CMD'> unavailable\n",
            "\t Testing invalid status\n",
            "\t Testing continuous LP solution - export dict\n",
            "\t Testing MIP solution\n",
            "\t Testing maximize continuous LP solution\n",
            "\t Testing continuous LP solution - export JSON\n",
            "\t Testing continuous LP solution - export solver dict\n",
            "\t Testing continuous LP solution - export solver JSON\n",
            "\t Testing makeDict general behavior\n",
            "\t Testing makeDict default value behavior\n",
            "\t Testing the availability of the function pulpTestAll\n",
            "\t Testing zero subtraction\n",
            "\t Testing inconsistent lp solution\n",
            "\t Testing continuous LP solution\n"
          ],
          "name": "stdout"
        },
        {
          "output_type": "stream",
          "text": [
            "..............."
          ],
          "name": "stderr"
        },
        {
          "output_type": "stream",
          "text": [
            "\t Testing maximize continuous LP solution\n",
            "\t Testing unbounded continuous LP solution\n",
            "\t Testing Long Names\n",
            "\t Testing repeated Names\n",
            "\t Testing zero constraint\n",
            "\t Testing zero objective\n",
            "\t Testing LpVariable (not LpAffineExpression) objective\n",
            "\t Testing Long lines in LP\n",
            "\t Testing LpAffineExpression divide\n",
            "\t Testing MIP solution\n",
            "\t Testing MIP solution with floats in objective\n",
            "\t Testing MIP solution\n",
            "\t Testing MIP solution\n",
            "\t Testing MIP relaxation\n",
            "\t Testing feasibility problem (no objective)\n"
          ],
          "name": "stdout"
        },
        {
          "output_type": "stream",
          "text": [
            "..............."
          ],
          "name": "stderr"
        },
        {
          "output_type": "stream",
          "text": [
            "\t Testing an infeasible problem\n",
            "\t Testing an integer infeasible problem\n",
            "\t Testing another integer infeasible problem\n",
            "\t Testing column based modelling\n",
            "\t Testing dual variables and slacks reporting\n",
            "\t Testing fractional constraints\n",
            "\t Testing elastic constraints (no change)\n",
            "\t Testing elastic constraints (freebound)\n",
            "\t Testing elastic constraints (penalty unchanged)\n",
            "\t Testing elastic constraints (penalty unbounded)\n",
            "\t Testing invalid status\n",
            "\t Testing continuous LP solution - export dict\n"
          ],
          "name": "stdout"
        },
        {
          "output_type": "stream",
          "text": [
            ".............."
          ],
          "name": "stderr"
        },
        {
          "output_type": "stream",
          "text": [
            "\t Testing MIP solution\n",
            "\t Testing maximize continuous LP solution\n",
            "\t Testing continuous LP solution - export JSON\n",
            "\t Testing continuous LP solution - export solver dict\n",
            "\t Testing continuous LP solution - export solver JSON\n",
            "\t Testing makeDict general behavior\n",
            "\t Testing makeDict default value behavior\n",
            "\t Testing the availability of the function pulpTestAll\n",
            "\t Testing zero subtraction\n",
            "\t Testing inconsistent lp solution\n",
            "\t Testing continuous LP solution\n",
            "\t Testing maximize continuous LP solution\n",
            "\t Testing unbounded continuous LP solution\n"
          ],
          "name": "stdout"
        },
        {
          "output_type": "stream",
          "text": [
            "..........."
          ],
          "name": "stderr"
        },
        {
          "output_type": "stream",
          "text": [
            "\t Testing Long Names\n",
            "\t Testing repeated Names\n",
            "\t Testing zero constraint\n",
            "\t Testing zero objective\n",
            "\t Testing LpVariable (not LpAffineExpression) objective\n",
            "\t Testing Long lines in LP\n",
            "\t Testing LpAffineExpression divide\n",
            "\t Testing MIP solution\n",
            "\t Testing MIP solution with floats in objective\n",
            "\t Testing MIP solution\n",
            "\t Testing MIP solution\n"
          ],
          "name": "stdout"
        },
        {
          "output_type": "stream",
          "text": [
            "............."
          ],
          "name": "stderr"
        },
        {
          "output_type": "stream",
          "text": [
            "\t Testing MIP relaxation\n",
            "\t Testing feasibility problem (no objective)\n",
            "\t Testing an infeasible problem\n",
            "\t Testing an integer infeasible problem\n",
            "\t Testing another integer infeasible problem\n",
            "\t Testing column based modelling\n",
            "\t Testing fractional constraints\n",
            "\t Testing elastic constraints (no change)\n",
            "\t Testing elastic constraints (freebound)\n"
          ],
          "name": "stdout"
        },
        {
          "output_type": "stream",
          "text": [
            ".................."
          ],
          "name": "stderr"
        },
        {
          "output_type": "stream",
          "text": [
            "\t Testing elastic constraints (penalty unchanged)\n",
            "\t Testing elastic constraints (penalty unbounded)\n",
            "\t Testing invalid status\n",
            "\t Testing continuous LP solution - export dict\n",
            "\t Testing MIP solution\n",
            "\t Testing maximize continuous LP solution\n",
            "\t Testing continuous LP solution - export JSON\n",
            "\t Testing continuous LP solution - export solver dict\n",
            "\t Testing continuous LP solution - export solver JSON\n",
            "\t Testing makeDict general behavior\n",
            "\t Testing makeDict default value behavior\n",
            "\t Testing the availability of the function pulpTestAll\n",
            "\t Testing zero subtraction\n",
            "\t Testing inconsistent lp solution\n",
            "\t Testing continuous LP solution\n",
            "\t Testing maximize continuous LP solution\n"
          ],
          "name": "stdout"
        },
        {
          "output_type": "stream",
          "text": [
            ".................."
          ],
          "name": "stderr"
        },
        {
          "output_type": "stream",
          "text": [
            "\t Testing unbounded continuous LP solution\n",
            "\t Testing Long Names\n",
            "\t Testing repeated Names\n",
            "\t Testing zero constraint\n",
            "\t Testing zero objective\n",
            "\t Testing LpVariable (not LpAffineExpression) objective\n",
            "\t Testing LpAffineExpression divide\n",
            "\t Testing MIP solution\n",
            "\t Testing MIP solution with floats in objective\n",
            "\t Testing MIP solution\n",
            "\t Testing MIP solution\n",
            "\t Testing MIP relaxation\n",
            "\t Testing feasibility problem (no objective)\n",
            "\t Testing an infeasible problem\n",
            "\t Testing an integer infeasible problem\n",
            "\t Testing another integer infeasible problem\n"
          ],
          "name": "stdout"
        },
        {
          "output_type": "stream",
          "text": [
            "............"
          ],
          "name": "stderr"
        },
        {
          "output_type": "stream",
          "text": [
            "\t Testing column based modelling\n",
            "\t Testing fractional constraints\n",
            "\t Testing elastic constraints (no change)\n",
            "\t Testing elastic constraints (freebound)\n",
            "\t Testing elastic constraints (penalty unchanged)\n",
            "\t Testing elastic constraints (penalty unbounded)\n",
            "\t Testing invalid status\n",
            "\t Testing continuous LP solution - export dict\n"
          ],
          "name": "stdout"
        },
        {
          "output_type": "stream",
          "text": [
            "."
          ],
          "name": "stderr"
        },
        {
          "output_type": "stream",
          "text": [
            "\t Testing MIP solution\n"
          ],
          "name": "stdout"
        },
        {
          "output_type": "stream",
          "text": [
            "."
          ],
          "name": "stderr"
        },
        {
          "output_type": "stream",
          "text": [
            "\t Testing maximize continuous LP solution\n"
          ],
          "name": "stdout"
        },
        {
          "output_type": "stream",
          "text": [
            "."
          ],
          "name": "stderr"
        },
        {
          "output_type": "stream",
          "text": [
            "\t Testing continuous LP solution - export JSON\n"
          ],
          "name": "stdout"
        },
        {
          "output_type": "stream",
          "text": [
            "."
          ],
          "name": "stderr"
        },
        {
          "output_type": "stream",
          "text": [
            "\t Testing continuous LP solution - export solver dict\n"
          ],
          "name": "stdout"
        },
        {
          "output_type": "stream",
          "text": [
            "."
          ],
          "name": "stderr"
        },
        {
          "output_type": "stream",
          "text": [
            "\t Testing continuous LP solution - export solver JSON\n"
          ],
          "name": "stdout"
        },
        {
          "output_type": "stream",
          "text": [
            "......."
          ],
          "name": "stderr"
        },
        {
          "output_type": "stream",
          "text": [
            "\t Testing makeDict general behavior\n",
            "\t Testing makeDict default value behavior\n",
            "\t Testing the availability of the function pulpTestAll\n",
            "\t Testing zero subtraction\n",
            "\t Testing inconsistent lp solution\n",
            "\t Testing continuous LP solution\n"
          ],
          "name": "stdout"
        },
        {
          "output_type": "stream",
          "text": [
            "."
          ],
          "name": "stderr"
        },
        {
          "output_type": "stream",
          "text": [
            "\t Testing maximize continuous LP solution\n"
          ],
          "name": "stdout"
        },
        {
          "output_type": "stream",
          "text": [
            ".."
          ],
          "name": "stderr"
        },
        {
          "output_type": "stream",
          "text": [
            "\t Testing unbounded continuous LP solution\n",
            "\t Testing Long Names\n"
          ],
          "name": "stdout"
        },
        {
          "output_type": "stream",
          "text": [
            ".."
          ],
          "name": "stderr"
        },
        {
          "output_type": "stream",
          "text": [
            "\t Testing repeated Names\n",
            "\t Testing zero constraint\n"
          ],
          "name": "stdout"
        },
        {
          "output_type": "stream",
          "text": [
            "."
          ],
          "name": "stderr"
        },
        {
          "output_type": "stream",
          "text": [
            "\t Testing zero objective\n"
          ],
          "name": "stdout"
        },
        {
          "output_type": "stream",
          "text": [
            "."
          ],
          "name": "stderr"
        },
        {
          "output_type": "stream",
          "text": [
            "\t Testing LpVariable (not LpAffineExpression) objective\n"
          ],
          "name": "stdout"
        },
        {
          "output_type": "stream",
          "text": [
            ".."
          ],
          "name": "stderr"
        },
        {
          "output_type": "stream",
          "text": [
            "\t Testing LpAffineExpression divide\n"
          ],
          "name": "stdout"
        },
        {
          "output_type": "stream",
          "text": [
            "."
          ],
          "name": "stderr"
        },
        {
          "output_type": "stream",
          "text": [
            "\t Testing MIP solution\n"
          ],
          "name": "stdout"
        },
        {
          "output_type": "stream",
          "text": [
            "."
          ],
          "name": "stderr"
        },
        {
          "output_type": "stream",
          "text": [
            "\t Testing MIP solution with floats in objective\n"
          ],
          "name": "stdout"
        },
        {
          "output_type": "stream",
          "text": [
            "."
          ],
          "name": "stderr"
        },
        {
          "output_type": "stream",
          "text": [
            "\t Testing MIP solution\n"
          ],
          "name": "stdout"
        },
        {
          "output_type": "stream",
          "text": [
            "."
          ],
          "name": "stderr"
        },
        {
          "output_type": "stream",
          "text": [
            "\t Testing MIP solution\n"
          ],
          "name": "stdout"
        },
        {
          "output_type": "stream",
          "text": [
            "./usr/local/lib/python3.6/dist-packages/pulp/apis/choco_api.py:83: UserWarning: CHOCO_CMD cannot solve the relaxation of a problem\n",
            "  warnings.warn(\"CHOCO_CMD cannot solve the relaxation of a problem\")\n"
          ],
          "name": "stderr"
        },
        {
          "output_type": "stream",
          "text": [
            "\t Testing MIP relaxation\n"
          ],
          "name": "stdout"
        },
        {
          "output_type": "stream",
          "text": [
            "."
          ],
          "name": "stderr"
        },
        {
          "output_type": "stream",
          "text": [
            "\t Testing feasibility problem (no objective)\n"
          ],
          "name": "stdout"
        },
        {
          "output_type": "stream",
          "text": [
            "."
          ],
          "name": "stderr"
        },
        {
          "output_type": "stream",
          "text": [
            "\t Testing an infeasible problem\n"
          ],
          "name": "stdout"
        },
        {
          "output_type": "stream",
          "text": [
            "."
          ],
          "name": "stderr"
        },
        {
          "output_type": "stream",
          "text": [
            "\t Testing an integer infeasible problem\n"
          ],
          "name": "stdout"
        },
        {
          "output_type": "stream",
          "text": [
            "."
          ],
          "name": "stderr"
        },
        {
          "output_type": "stream",
          "text": [
            "\t Testing another integer infeasible problem\n"
          ],
          "name": "stdout"
        },
        {
          "output_type": "stream",
          "text": [
            "."
          ],
          "name": "stderr"
        },
        {
          "output_type": "stream",
          "text": [
            "\t Testing column based modelling\n"
          ],
          "name": "stdout"
        },
        {
          "output_type": "stream",
          "text": [
            "....."
          ],
          "name": "stderr"
        },
        {
          "output_type": "stream",
          "text": [
            "\t Testing fractional constraints\n"
          ],
          "name": "stdout"
        },
        {
          "output_type": "stream",
          "text": [
            "."
          ],
          "name": "stderr"
        },
        {
          "output_type": "stream",
          "text": [
            "\t Testing elastic constraints (no change)\n"
          ],
          "name": "stdout"
        },
        {
          "output_type": "stream",
          "text": [
            "."
          ],
          "name": "stderr"
        },
        {
          "output_type": "stream",
          "text": [
            "\t Testing elastic constraints (freebound)\n"
          ],
          "name": "stdout"
        },
        {
          "output_type": "stream",
          "text": [
            "."
          ],
          "name": "stderr"
        },
        {
          "output_type": "stream",
          "text": [
            "\t Testing elastic constraints (penalty unchanged)\n"
          ],
          "name": "stdout"
        },
        {
          "output_type": "stream",
          "text": [
            ".............."
          ],
          "name": "stderr"
        },
        {
          "output_type": "stream",
          "text": [
            "\t Testing elastic constraints (penalty unbounded)\n"
          ],
          "name": "stdout"
        },
        {
          "output_type": "stream",
          "text": [
            "........................."
          ],
          "name": "stderr"
        },
        {
          "output_type": "stream",
          "text": [
            "{'a': 53.0, 'b': 45.3, 'c': 459.2}\n"
          ],
          "name": "stdout"
        },
        {
          "output_type": "stream",
          "text": [
            ".......\n",
            "----------------------------------------------------------------------\n",
            "Ran 215 tests in 39.086s\n",
            "\n",
            "OK\n"
          ],
          "name": "stderr"
        }
      ]
    },
    {
      "cell_type": "code",
      "metadata": {
        "id": "pxvqw3w5eq56"
      },
      "source": [
        "Opis problemu:\n",
        "Naszym zadaniem jest dopasowanie harmonogramu pracowników sklepu w taki sposób aby spełniał założenia:\n",
        "1. W poniedziałek potrzebujemy 2 pracowników\n",
        "2. W wtorek potrzebujemy 1 pracownika\n",
        "3. W środę potrzebujemy 1 pracownika\n",
        "4. W czwartek potrzebujemy 1 pracownika\n",
        "5. W piątek potrzebujemy 3 pracowników\n",
        "6. Każdy z pracowników może pracować maksymalnie 3 dni w danym tygodniu\n",
        "7. Każdy z pracowników może mieć ograniczoną dostępność i inną cene za godzine swojej usługi:\n",
        "  Ania (Dowolny dzień) - 100 za godzine\n",
        "  Stefan (poniedziałek) - 50 za godzine\n",
        "  Hektor (poniedziałek, wtorek, środa) - 60 za godzine\n",
        "  Olaf (Dowolny dzień) - 40 za godzine\n",
        "  Lidia (czwartek, piątek) - 11 za godzine\n",
        "  Piotr (poniedziałek, wtorek, środa) - 70 za godzine"
      ],
      "execution_count": null,
      "outputs": []
    },
    {
      "cell_type": "code",
      "metadata": {
        "colab": {
          "base_uri": "https://localhost:8080/"
        },
        "id": "bVc8YYBHftcv",
        "outputId": "8bff60fa-c968-4220-dacc-2a15d4a6ddcf"
      },
      "source": [
        "#Realizacja\n",
        "\n",
        "#Importujemy biblioteke PuLP\n",
        "from pulp import *\n",
        "\n",
        "#Przypisujemy zmiennym koszt każdego pracownika za godzine\n",
        "Ania_za_godzine = 100\n",
        "Stefan_za_godzine = 50\n",
        "Hektor_za_godzine = 60\n",
        "Olaf_za_godzine = 40\n",
        "Lidia_za_godzine = 110\n",
        "Piotr_za_godzine = 70\n",
        "\n",
        "#Inicjalizacja zmiennej problem, LpMinimize świadczy o fakcie, że dążymy do minimalizacji kosztów związanych z zatrudnionymi pracownikami\n",
        "problem = LpProblem(\"dni\", LpMinimize)\n",
        "\n",
        "#Tworzenie zmiennych wykorzystywanych przez PuLP. Każda zmienna odpowiada osobie i dniu w którym jest ona dostępna. Wartości jakie może przyjmować każda zmienna to 0 albo 1 to znaczy albo jest w pracy albo nie\n",
        "Ania_poniedzialek = LpVariable(\"Ania_poniedzialek\",0,1)\n",
        "Ania_wtorek = LpVariable(\"Ania_wtorek\",0,1)\n",
        "Ania_sroda = LpVariable(\"Ania_sroda\",0,1)\n",
        "Ania_czwartek = LpVariable(\"Ania_czwartek\",0,1)\n",
        "Ania_piatek = LpVariable(\"Ania_piatek\",0,1)\n",
        "Stefan_poniedzialek = LpVariable(\"Stefan_poniedzialek\",0,1)\n",
        "Hektor_poniedzialek=LpVariable(\"Hektor_poniedzialek\",0,1)\n",
        "Hektor_wtorek=LpVariable(\"Hektor_wtorek\",0,1)\n",
        "Hektor_sroda=LpVariable(\"Hektor_sroda\",0,1)\n",
        "Olaf_poniedzialek=LpVariable(\"Olaf_poniedzialek\",0,1)\n",
        "Olaf_wtorek=LpVariable(\"Olaf_wtorek\",0,1)\n",
        "Olaf_sroda=LpVariable(\"Olaf_sroda\",0,1)\n",
        "Olaf_czwartek=LpVariable(\"Olaf_czwartek\",0,1)\n",
        "Olaf_piatek=LpVariable(\"Olaf_piatek\",0,1)\n",
        "Lidia_czwartek=LpVariable(\"Lidia_czwartek\",0,1)\n",
        "Lidia_piatek=LpVariable(\"Lidia_piatek\",0,1)\n",
        "Piotr_poniedzialek=LpVariable(\"Piotr_poniedzialek\",0,1)\n",
        "Piotr_wtorek=LpVariable(\"Piotr_wtorek\",0,1)\n",
        "Piotr_sroda=LpVariable(\"Piotr_sroda\",0,1)\n",
        "\n",
        "#Tworzymy warunek opisujący koszt związany z pracownikami w ciągu tygodnia według wzoru:\n",
        "#koszt = 5*(kwota_za_godzine_pracy_danej_osoby_1 * suma_dni_pracy_danej_osoby_1  +  kwota_za_godzine_pracy_danej_osoby_2 * suma_dni_pracy_danej_osoby_2  +  ...  + kwota_za_godzine_pracy_danej_osoby_n * suma_dni_pracy_danej_osoby_n)\n",
        "#liczba 5 na początku wynika z faktu, że mamy 5 dniowy tydzień pracy\n",
        "problem += 5*(Ania_za_godzine*(Ania_poniedzialek+Ania_wtorek+Ania_sroda+Ania_czwartek+Ania_piatek)+Stefan_za_godzine*(Stefan_poniedzialek)+Hektor_za_godzine*(Hektor_poniedzialek+Hektor_wtorek+Hektor_sroda)+Olaf_za_godzine*(Olaf_poniedzialek+Olaf_wtorek+Olaf_sroda+Olaf_czwartek+Olaf_piatek)+Lidia_za_godzine*(Lidia_czwartek+Lidia_piatek)+Piotr_za_godzine*(Piotr_poniedzialek+Piotr_wtorek+Piotr_sroda))\n",
        "\n",
        "#Warunki opisujące maksymalną liczbe przepracowanych dni. Należy zaznaczyć, że nie wszystkie zmienne zostały tutaj wykorzystane.\n",
        "#Wynika to z faktu, że pod uwagę są brane tylko pracownicy, dla których możliwe jest aby pracowali więcej niż 3 dni w tygodniu.\n",
        "\n",
        "#Warunek dla Ani o nieprzekroczenie maksymalnego czasu pracy \n",
        "problem += Ania_poniedzialek+Ania_wtorek+Ania_sroda+Ania_czwartek+Ania_piatek <= 3\n",
        "\n",
        "#Warunek dla Olafa o nieprzekroczenie maksymalnego czasu pracy \n",
        "problem += Olaf_poniedzialek+Olaf_wtorek+Olaf_sroda+Olaf_czwartek+Olaf_piatek <= 3\n",
        "\n",
        "#Warunki wynikające z zapotrzebowania na pracowników na każdy dzień pracy:\n",
        "\n",
        "#Zapotrzebowanie na poniedziałek (2 osoby):\n",
        "problem += Ania_poniedzialek+Stefan_poniedzialek+Hektor_poniedzialek+Olaf_poniedzialek+Piotr_poniedzialek == 2\n",
        "\n",
        "#Zapotrzebowanie na wtorek (1 osoba):\n",
        "problem += Ania_wtorek+Hektor_wtorek+Olaf_wtorek+Piotr_wtorek == 1\n",
        "\n",
        "#Zapotrzebowanie na środe (1 osoba):\n",
        "problem += Ania_sroda+Hektor_sroda+Olaf_sroda+Piotr_sroda == 1\n",
        "\n",
        "#Zapotrzebowanie na czwartek (1 osoba):\n",
        "problem += Ania_czwartek+Lidia_czwartek+Olaf_czwartek == 1\n",
        "\n",
        "#Zapotrzebowanie na piątek (1 osoba):\n",
        "problem += Ania_piatek+Lidia_piatek+Olaf_piatek == 3\n",
        "\n",
        "#Wywołanie funkcji rozwiązującej problem\n",
        "problem.solve()\n",
        "\n",
        "#Wyprintowanie harmonogramu dla każdej osoby i każdego możliwego dnia pracy\n",
        "for variable in problem.variables():\n",
        "    print (variable.name, \"=\", variable.varValue)\n",
        "\n",
        "#Wyznaczenie kosztu tygodnia pracy zatrudnionych\n",
        "koszt = Ania_za_godzine*(Ania_poniedzialek.value()+Ania_wtorek.value()+Ania_sroda.value()+Ania_czwartek.value()+Ania_piatek.value())+Hektor_za_godzine*(Hektor_poniedzialek.value()+Hektor_wtorek.value()+Hektor_sroda.value())+Lidia_za_godzine*(Lidia_czwartek.value()+Lidia_piatek.value())+Olaf_za_godzine*(Olaf_poniedzialek.value()+Olaf_wtorek.value()+Olaf_sroda.value()+Olaf_czwartek.value()+Olaf_piatek.value())+Piotr_za_godzine*(Piotr_poniedzialek.value()+Piotr_wtorek.value()+Piotr_sroda.value())+Stefan_za_godzine*Stefan_poniedzialek.value()\n",
        "\n",
        "#Wyprintowanie tygodniowego kosztu pracy\n",
        "print(\"Tygodniowy koszt wynosi = \",koszt* 8,\" zł\")"
      ],
      "execution_count": 50,
      "outputs": [
        {
          "output_type": "stream",
          "text": [
            "Ania_czwartek = 0.0\n",
            "Ania_piatek = 1.0\n",
            "Ania_poniedzialek = 0.0\n",
            "Ania_sroda = 0.0\n",
            "Ania_wtorek = 0.0\n",
            "Hektor_poniedzialek = 1.0\n",
            "Hektor_sroda = 1.0\n",
            "Hektor_wtorek = 0.0\n",
            "Lidia_czwartek = 0.0\n",
            "Lidia_piatek = 1.0\n",
            "Olaf_czwartek = 1.0\n",
            "Olaf_piatek = 1.0\n",
            "Olaf_poniedzialek = 0.0\n",
            "Olaf_sroda = 0.0\n",
            "Olaf_wtorek = 1.0\n",
            "Piotr_poniedzialek = 0.0\n",
            "Piotr_sroda = 0.0\n",
            "Piotr_wtorek = 0.0\n",
            "Stefan_poniedzialek = 1.0\n",
            "Tygodniowy koszt wynosi =  4000.0  zł\n"
          ],
          "name": "stdout"
        }
      ]
    }
  ]
}