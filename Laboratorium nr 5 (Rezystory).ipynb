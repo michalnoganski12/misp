{
  "nbformat": 4,
  "nbformat_minor": 0,
  "metadata": {
    "colab": {
      "name": "PuLP_moje (1).ipynb",
      "provenance": [],
      "collapsed_sections": []
    },
    "kernelspec": {
      "display_name": "Python 3",
      "language": "python",
      "name": "python3"
    },
    "language_info": {
      "codemirror_mode": {
        "name": "ipython",
        "version": 3
      },
      "file_extension": ".py",
      "mimetype": "text/x-python",
      "name": "python",
      "nbconvert_exporter": "python",
      "pygments_lexer": "ipython3",
      "version": "3.8.3"
    }
  },
  "cells": [
    {
      "cell_type": "code",
      "metadata": {
        "colab": {
          "base_uri": "https://localhost:8080/"
        },
        "id": "ybXv0mY98RcV",
        "outputId": "d0fa1da9-0eb2-4816-ccf3-2508f72dec06"
      },
      "source": [
        "#Instalacja biblioteki PuLP\n",
        "!pip install pulp\n"
      ],
      "execution_count": 1,
      "outputs": [
        {
          "output_type": "stream",
          "text": [
            "Collecting pulp\n",
            "\u001b[?25l  Downloading https://files.pythonhosted.org/packages/89/0c/6d80f5f81a92d1733cc5ca180491b8a3cd5839e335627a0046c81b7d3d3d/PuLP-2.3.1-py3-none-any.whl (40.6MB)\n",
            "\u001b[K     |████████████████████████████████| 40.6MB 106kB/s \n",
            "\u001b[?25hCollecting amply>=0.1.2\n",
            "  Downloading https://files.pythonhosted.org/packages/f3/c5/dfa09dd2595a2ab2ab4e6fa7bebef9565812722e1980d04b0edce5032066/amply-0.1.4-py3-none-any.whl\n",
            "Requirement already satisfied: docutils>=0.3 in /usr/local/lib/python3.6/dist-packages (from amply>=0.1.2->pulp) (0.16)\n",
            "Requirement already satisfied: pyparsing in /usr/local/lib/python3.6/dist-packages (from amply>=0.1.2->pulp) (2.4.7)\n",
            "Installing collected packages: amply, pulp\n",
            "Successfully installed amply-0.1.4 pulp-2.3.1\n"
          ],
          "name": "stdout"
        }
      ]
    },
    {
      "cell_type": "code",
      "metadata": {
        "colab": {
          "base_uri": "https://localhost:8080/"
        },
        "id": "zhpZXCjq9bMC",
        "scrolled": true,
        "outputId": "972f50aa-911c-4744-e69e-674507e9f33f"
      },
      "source": [
        "#Załączamy zainstalowaną bibliotekę i sprawdzamy wersje\n",
        "import pulp\n",
        "\n",
        "print(pulp.__version__)"
      ],
      "execution_count": 2,
      "outputs": [
        {
          "output_type": "stream",
          "text": [
            "2.3.1\n"
          ],
          "name": "stdout"
        }
      ]
    },
    {
      "cell_type": "code",
      "metadata": {
        "colab": {
          "base_uri": "https://localhost:8080/"
        },
        "id": "1CMqIZIx-eth",
        "outputId": "4a2cc5a8-15c8-4790-b422-f6719db59651"
      },
      "source": [
        "#Instalacja pozostałych narzędzi niezbędnych do przeprowadzenia zadań\n",
        "!sudo apt-get install coinor-cbc glpk-utils coinor-clp"
      ],
      "execution_count": 4,
      "outputs": [
        {
          "output_type": "stream",
          "text": [
            "Reading package lists... Done\n",
            "Building dependency tree       \n",
            "Reading state information... Done\n",
            "coinor-cbc is already the newest version (2.9.9+repack1-1).\n",
            "coinor-clp is already the newest version (1.16.11+repack1-1).\n",
            "glpk-utils is already the newest version (4.65-1).\n",
            "0 upgraded, 0 newly installed, 0 to remove and 14 not upgraded.\n"
          ],
          "name": "stdout"
        }
      ]
    },
    {
      "cell_type": "code",
      "metadata": {
        "colab": {
          "base_uri": "https://localhost:8080/"
        },
        "id": "HxOPJqBC-xwR",
        "outputId": "9383e28b-6eb5-4f66-ecaf-22ebdc7c82ba"
      },
      "source": [
        "#Sprawdzamy dostępność poszczególnych narzędzi biblioteki PuLP. \n",
        "pulp.pulpTestAll()"
      ],
      "execution_count": 5,
      "outputs": [
        {
          "output_type": "stream",
          "text": [
            ".............."
          ],
          "name": "stderr"
        },
        {
          "output_type": "stream",
          "text": [
            "Solver <class 'pulp.apis.coin_api.PULP_CBC_CMD'> available\n",
            "Solver <class 'pulp.apis.cplex_api.CPLEX_DLL'> unavailable\n",
            "Solver <class 'pulp.apis.cplex_api.CPLEX_CMD'> unavailable\n",
            "Solver <class 'pulp.apis.cplex_api.CPLEX_PY'> unavailable\n",
            "Solver <class 'pulp.apis.coin_api.COIN_CMD'> available\n",
            "Solver <class 'pulp.apis.coin_api.COINMP_DLL'> unavailable\n",
            "Solver <class 'pulp.apis.glpk_api.GLPK_CMD'> available\n",
            "Solver <class 'pulp.apis.xpress_api.XPRESS'> unavailable\n",
            "Solver <class 'pulp.apis.gurobi_api.GUROBI'> unavailable\n",
            "Solver <class 'pulp.apis.gurobi_api.GUROBI_CMD'> unavailable\n",
            "Solver <class 'pulp.apis.glpk_api.PYGLPK'> unavailable\n",
            "Solver <class 'pulp.apis.coin_api.YAPOSIB'> unavailable\n",
            "Solver <class 'pulp.apis.choco_api.PULP_CHOCO_CMD'> available\n",
            "Solver <class 'pulp.apis.choco_api.CHOCO_CMD'> unavailable\n",
            "Solver <class 'pulp.apis.mipcl_api.MIPCL_CMD'> unavailable\n",
            "Solver <class 'pulp.apis.mosek_api.MOSEK'> unavailable\n",
            "Solver <class 'pulp.apis.scip_api.SCIP_CMD'> unavailable\n",
            "\t Testing invalid status\n",
            "\t Testing continuous LP solution - export dict\n",
            "\t Testing MIP solution\n",
            "\t Testing maximize continuous LP solution\n",
            "\t Testing continuous LP solution - export JSON\n",
            "\t Testing continuous LP solution - export solver dict\n",
            "\t Testing continuous LP solution - export solver JSON\n",
            "\t Testing makeDict general behavior\n",
            "\t Testing makeDict default value behavior\n",
            "\t Testing the availability of the function pulpTestAll\n",
            "\t Testing zero subtraction\n",
            "\t Testing inconsistent lp solution\n",
            "\t Testing continuous LP solution\n"
          ],
          "name": "stdout"
        },
        {
          "output_type": "stream",
          "text": [
            "..............."
          ],
          "name": "stderr"
        },
        {
          "output_type": "stream",
          "text": [
            "\t Testing maximize continuous LP solution\n",
            "\t Testing unbounded continuous LP solution\n",
            "\t Testing Long Names\n",
            "\t Testing repeated Names\n",
            "\t Testing zero constraint\n",
            "\t Testing zero objective\n",
            "\t Testing LpVariable (not LpAffineExpression) objective\n",
            "\t Testing Long lines in LP\n",
            "\t Testing LpAffineExpression divide\n",
            "\t Testing MIP solution\n",
            "\t Testing MIP solution with floats in objective\n",
            "\t Testing MIP solution\n",
            "\t Testing MIP solution\n",
            "\t Testing MIP relaxation\n",
            "\t Testing feasibility problem (no objective)\n"
          ],
          "name": "stdout"
        },
        {
          "output_type": "stream",
          "text": [
            "..............."
          ],
          "name": "stderr"
        },
        {
          "output_type": "stream",
          "text": [
            "\t Testing an infeasible problem\n",
            "\t Testing an integer infeasible problem\n",
            "\t Testing another integer infeasible problem\n",
            "\t Testing column based modelling\n",
            "\t Testing dual variables and slacks reporting\n",
            "\t Testing fractional constraints\n",
            "\t Testing elastic constraints (no change)\n",
            "\t Testing elastic constraints (freebound)\n",
            "\t Testing elastic constraints (penalty unchanged)\n",
            "\t Testing elastic constraints (penalty unbounded)\n",
            "\t Testing invalid status\n",
            "\t Testing continuous LP solution - export dict\n"
          ],
          "name": "stdout"
        },
        {
          "output_type": "stream",
          "text": [
            ".............."
          ],
          "name": "stderr"
        },
        {
          "output_type": "stream",
          "text": [
            "\t Testing MIP solution\n",
            "\t Testing maximize continuous LP solution\n",
            "\t Testing continuous LP solution - export JSON\n",
            "\t Testing continuous LP solution - export solver dict\n",
            "\t Testing continuous LP solution - export solver JSON\n",
            "\t Testing makeDict general behavior\n",
            "\t Testing makeDict default value behavior\n",
            "\t Testing the availability of the function pulpTestAll\n",
            "\t Testing zero subtraction\n",
            "\t Testing inconsistent lp solution\n",
            "\t Testing continuous LP solution\n",
            "\t Testing maximize continuous LP solution\n",
            "\t Testing unbounded continuous LP solution\n"
          ],
          "name": "stdout"
        },
        {
          "output_type": "stream",
          "text": [
            "..........."
          ],
          "name": "stderr"
        },
        {
          "output_type": "stream",
          "text": [
            "\t Testing Long Names\n",
            "\t Testing repeated Names\n",
            "\t Testing zero constraint\n",
            "\t Testing zero objective\n",
            "\t Testing LpVariable (not LpAffineExpression) objective\n",
            "\t Testing Long lines in LP\n",
            "\t Testing LpAffineExpression divide\n",
            "\t Testing MIP solution\n",
            "\t Testing MIP solution with floats in objective\n",
            "\t Testing MIP solution\n",
            "\t Testing MIP solution\n"
          ],
          "name": "stdout"
        },
        {
          "output_type": "stream",
          "text": [
            "............."
          ],
          "name": "stderr"
        },
        {
          "output_type": "stream",
          "text": [
            "\t Testing MIP relaxation\n",
            "\t Testing feasibility problem (no objective)\n",
            "\t Testing an infeasible problem\n",
            "\t Testing an integer infeasible problem\n",
            "\t Testing another integer infeasible problem\n",
            "\t Testing column based modelling\n",
            "\t Testing fractional constraints\n",
            "\t Testing elastic constraints (no change)\n",
            "\t Testing elastic constraints (freebound)\n"
          ],
          "name": "stdout"
        },
        {
          "output_type": "stream",
          "text": [
            ".................."
          ],
          "name": "stderr"
        },
        {
          "output_type": "stream",
          "text": [
            "\t Testing elastic constraints (penalty unchanged)\n",
            "\t Testing elastic constraints (penalty unbounded)\n",
            "\t Testing invalid status\n",
            "\t Testing continuous LP solution - export dict\n",
            "\t Testing MIP solution\n",
            "\t Testing maximize continuous LP solution\n",
            "\t Testing continuous LP solution - export JSON\n",
            "\t Testing continuous LP solution - export solver dict\n",
            "\t Testing continuous LP solution - export solver JSON\n",
            "\t Testing makeDict general behavior\n",
            "\t Testing makeDict default value behavior\n",
            "\t Testing the availability of the function pulpTestAll\n",
            "\t Testing zero subtraction\n",
            "\t Testing inconsistent lp solution\n",
            "\t Testing continuous LP solution\n",
            "\t Testing maximize continuous LP solution\n"
          ],
          "name": "stdout"
        },
        {
          "output_type": "stream",
          "text": [
            ".................."
          ],
          "name": "stderr"
        },
        {
          "output_type": "stream",
          "text": [
            "\t Testing unbounded continuous LP solution\n",
            "\t Testing Long Names\n",
            "\t Testing repeated Names\n",
            "\t Testing zero constraint\n",
            "\t Testing zero objective\n",
            "\t Testing LpVariable (not LpAffineExpression) objective\n",
            "\t Testing LpAffineExpression divide\n",
            "\t Testing MIP solution\n",
            "\t Testing MIP solution with floats in objective\n",
            "\t Testing MIP solution\n",
            "\t Testing MIP solution\n",
            "\t Testing MIP relaxation\n",
            "\t Testing feasibility problem (no objective)\n",
            "\t Testing an infeasible problem\n",
            "\t Testing an integer infeasible problem\n",
            "\t Testing another integer infeasible problem\n"
          ],
          "name": "stdout"
        },
        {
          "output_type": "stream",
          "text": [
            "............"
          ],
          "name": "stderr"
        },
        {
          "output_type": "stream",
          "text": [
            "\t Testing column based modelling\n",
            "\t Testing fractional constraints\n",
            "\t Testing elastic constraints (no change)\n",
            "\t Testing elastic constraints (freebound)\n",
            "\t Testing elastic constraints (penalty unchanged)\n",
            "\t Testing elastic constraints (penalty unbounded)\n",
            "\t Testing invalid status\n",
            "\t Testing continuous LP solution - export dict\n"
          ],
          "name": "stdout"
        },
        {
          "output_type": "stream",
          "text": [
            "."
          ],
          "name": "stderr"
        },
        {
          "output_type": "stream",
          "text": [
            "\t Testing MIP solution\n"
          ],
          "name": "stdout"
        },
        {
          "output_type": "stream",
          "text": [
            "."
          ],
          "name": "stderr"
        },
        {
          "output_type": "stream",
          "text": [
            "\t Testing maximize continuous LP solution\n"
          ],
          "name": "stdout"
        },
        {
          "output_type": "stream",
          "text": [
            "."
          ],
          "name": "stderr"
        },
        {
          "output_type": "stream",
          "text": [
            "\t Testing continuous LP solution - export JSON\n"
          ],
          "name": "stdout"
        },
        {
          "output_type": "stream",
          "text": [
            "."
          ],
          "name": "stderr"
        },
        {
          "output_type": "stream",
          "text": [
            "\t Testing continuous LP solution - export solver dict\n"
          ],
          "name": "stdout"
        },
        {
          "output_type": "stream",
          "text": [
            "."
          ],
          "name": "stderr"
        },
        {
          "output_type": "stream",
          "text": [
            "\t Testing continuous LP solution - export solver JSON\n"
          ],
          "name": "stdout"
        },
        {
          "output_type": "stream",
          "text": [
            "......."
          ],
          "name": "stderr"
        },
        {
          "output_type": "stream",
          "text": [
            "\t Testing makeDict general behavior\n",
            "\t Testing makeDict default value behavior\n",
            "\t Testing the availability of the function pulpTestAll\n",
            "\t Testing zero subtraction\n",
            "\t Testing inconsistent lp solution\n",
            "\t Testing continuous LP solution\n"
          ],
          "name": "stdout"
        },
        {
          "output_type": "stream",
          "text": [
            "."
          ],
          "name": "stderr"
        },
        {
          "output_type": "stream",
          "text": [
            "\t Testing maximize continuous LP solution\n"
          ],
          "name": "stdout"
        },
        {
          "output_type": "stream",
          "text": [
            ".."
          ],
          "name": "stderr"
        },
        {
          "output_type": "stream",
          "text": [
            "\t Testing unbounded continuous LP solution\n",
            "\t Testing Long Names\n"
          ],
          "name": "stdout"
        },
        {
          "output_type": "stream",
          "text": [
            ".."
          ],
          "name": "stderr"
        },
        {
          "output_type": "stream",
          "text": [
            "\t Testing repeated Names\n",
            "\t Testing zero constraint\n"
          ],
          "name": "stdout"
        },
        {
          "output_type": "stream",
          "text": [
            "."
          ],
          "name": "stderr"
        },
        {
          "output_type": "stream",
          "text": [
            "\t Testing zero objective\n"
          ],
          "name": "stdout"
        },
        {
          "output_type": "stream",
          "text": [
            "."
          ],
          "name": "stderr"
        },
        {
          "output_type": "stream",
          "text": [
            "\t Testing LpVariable (not LpAffineExpression) objective\n"
          ],
          "name": "stdout"
        },
        {
          "output_type": "stream",
          "text": [
            ".."
          ],
          "name": "stderr"
        },
        {
          "output_type": "stream",
          "text": [
            "\t Testing LpAffineExpression divide\n"
          ],
          "name": "stdout"
        },
        {
          "output_type": "stream",
          "text": [
            "."
          ],
          "name": "stderr"
        },
        {
          "output_type": "stream",
          "text": [
            "\t Testing MIP solution\n"
          ],
          "name": "stdout"
        },
        {
          "output_type": "stream",
          "text": [
            "."
          ],
          "name": "stderr"
        },
        {
          "output_type": "stream",
          "text": [
            "\t Testing MIP solution with floats in objective\n"
          ],
          "name": "stdout"
        },
        {
          "output_type": "stream",
          "text": [
            "."
          ],
          "name": "stderr"
        },
        {
          "output_type": "stream",
          "text": [
            "\t Testing MIP solution\n"
          ],
          "name": "stdout"
        },
        {
          "output_type": "stream",
          "text": [
            "."
          ],
          "name": "stderr"
        },
        {
          "output_type": "stream",
          "text": [
            "\t Testing MIP solution\n"
          ],
          "name": "stdout"
        },
        {
          "output_type": "stream",
          "text": [
            "./usr/local/lib/python3.6/dist-packages/pulp/apis/choco_api.py:83: UserWarning: CHOCO_CMD cannot solve the relaxation of a problem\n",
            "  warnings.warn(\"CHOCO_CMD cannot solve the relaxation of a problem\")\n"
          ],
          "name": "stderr"
        },
        {
          "output_type": "stream",
          "text": [
            "\t Testing MIP relaxation\n"
          ],
          "name": "stdout"
        },
        {
          "output_type": "stream",
          "text": [
            "."
          ],
          "name": "stderr"
        },
        {
          "output_type": "stream",
          "text": [
            "\t Testing feasibility problem (no objective)\n"
          ],
          "name": "stdout"
        },
        {
          "output_type": "stream",
          "text": [
            "."
          ],
          "name": "stderr"
        },
        {
          "output_type": "stream",
          "text": [
            "\t Testing an infeasible problem\n"
          ],
          "name": "stdout"
        },
        {
          "output_type": "stream",
          "text": [
            "."
          ],
          "name": "stderr"
        },
        {
          "output_type": "stream",
          "text": [
            "\t Testing an integer infeasible problem\n"
          ],
          "name": "stdout"
        },
        {
          "output_type": "stream",
          "text": [
            "."
          ],
          "name": "stderr"
        },
        {
          "output_type": "stream",
          "text": [
            "\t Testing another integer infeasible problem\n"
          ],
          "name": "stdout"
        },
        {
          "output_type": "stream",
          "text": [
            "."
          ],
          "name": "stderr"
        },
        {
          "output_type": "stream",
          "text": [
            "\t Testing column based modelling\n"
          ],
          "name": "stdout"
        },
        {
          "output_type": "stream",
          "text": [
            "....."
          ],
          "name": "stderr"
        },
        {
          "output_type": "stream",
          "text": [
            "\t Testing fractional constraints\n"
          ],
          "name": "stdout"
        },
        {
          "output_type": "stream",
          "text": [
            "."
          ],
          "name": "stderr"
        },
        {
          "output_type": "stream",
          "text": [
            "\t Testing elastic constraints (no change)\n"
          ],
          "name": "stdout"
        },
        {
          "output_type": "stream",
          "text": [
            "."
          ],
          "name": "stderr"
        },
        {
          "output_type": "stream",
          "text": [
            "\t Testing elastic constraints (freebound)\n"
          ],
          "name": "stdout"
        },
        {
          "output_type": "stream",
          "text": [
            "."
          ],
          "name": "stderr"
        },
        {
          "output_type": "stream",
          "text": [
            "\t Testing elastic constraints (penalty unchanged)\n"
          ],
          "name": "stdout"
        },
        {
          "output_type": "stream",
          "text": [
            ".............."
          ],
          "name": "stderr"
        },
        {
          "output_type": "stream",
          "text": [
            "\t Testing elastic constraints (penalty unbounded)\n"
          ],
          "name": "stdout"
        },
        {
          "output_type": "stream",
          "text": [
            "........................."
          ],
          "name": "stderr"
        },
        {
          "output_type": "stream",
          "text": [
            "{'a': 53.0, 'b': 45.3, 'c': 459.2}\n"
          ],
          "name": "stdout"
        },
        {
          "output_type": "stream",
          "text": [
            ".......\n",
            "----------------------------------------------------------------------\n",
            "Ran 215 tests in 39.086s\n",
            "\n",
            "OK\n"
          ],
          "name": "stderr"
        }
      ]
    },
    {
      "cell_type": "code",
      "metadata": {
        "id": "e0m7IVgiNg7Z"
      },
      "source": [
        "Opis problemu nr 1:\n",
        "Mamy mostek utworzony z pięciu rezystorów. Przez każdy z nich płynie określony prąd, przy czym musi być spełniony warunek:\n",
        "Ii - deltai <= Ii <= Ii + deltai (gdzie \"i\" = 1...5 czyli prąd odpowiadający każdemu z kolejnych rezystorów)\n",
        "Znamy napięcia Ui\n",
        "Dobieramy rezystory przy zachowaniu warunku uzyskania minimalnej mocy rozproszonej na mostku.\n",
        "\n",
        "Dane jakimi się posługujemy są następujące:\n",
        "Rezystor1: \n",
        "  - U1 = 6V\n",
        "  - I1 = 4mA\n",
        "Rezystor2: \n",
        "  - U2 = 10V\n",
        "  - I2 = 2mA\n",
        "Rezystor3: \n",
        "  - U3 = 4V\n",
        "  - I3 = 2mA\n",
        "Rezystor4: \n",
        "  - U4 = 7V\n",
        "  - I4 = 2mA\n",
        "Rezystor5: \n",
        "  - U5 = 3V\n",
        "  - I5 = 4mA\n",
        "Przy czym dla wszystkich rezystorów deltai wynosi = 1mA"
      ],
      "execution_count": null,
      "outputs": []
    },
    {
      "cell_type": "code",
      "metadata": {
        "colab": {
          "base_uri": "https://localhost:8080/"
        },
        "id": "68GgvhTsX18-",
        "outputId": "12ef7821-a25a-431c-cd7d-d5fb6eb8489b"
      },
      "source": [
        "#Realizacja rozwiązania problemu nr 1:\n",
        "\n",
        "#Importowanie biblioteki PuLP\n",
        "from pulp import *\n",
        "\n",
        "#Inicjalizacja zmiennej problem. LpMinimize świadczy o fakcie, że będziemy dążyć do minimalizacji mocy wydzielanej na mostku\n",
        "problem = LpProblem(\"Rezystory\",LpMinimize)\n",
        "\n",
        "#Tworzenie zmiennych dla PuLP. Chcemy wyznaczyć jakie prądy przepłyną przez rezystory z warunku:  Ii - deltai <= Ii <= Ii + deltai\n",
        "I1 = LpVariable(\"Prad_1\",0)\n",
        "I2 = LpVariable(\"Prad_2\",0)\n",
        "I3 = LpVariable(\"Prad_3\",0)\n",
        "I4 = LpVariable(\"Prad_4\",0)\n",
        "I5 = LpVariable(\"Prad_5\",0)\n",
        "\n",
        "#Warunek według ktorego w zależności od dobranego prądu dla każdego rezystora zostanie wyznaczona moc wydzielana na mostku jako suma mocy rezystorów wynikająca z wzoru: Pi = Ui * Ii  \n",
        "problem += 6*I1 + 10*I2 + 4*I3 + 7*I4 + 3*I5, \"Moc wydzielana na mostku\"\n",
        "\n",
        "#Lizby przypadające na Prad_i_min i Prad_i_max wynikają z założenia:  Ii - deltai <= Ii <= Ii + deltai\n",
        "#Warunki doboru prądu dla R1 \n",
        "problem += I1 >= 3, \"Prad_1_min\"\n",
        "problem += I1 <= 5, \"Prad_1_max\"\n",
        "\n",
        "#Warunki doboru prądu dla R2 \n",
        "problem += I2 >= 1, \"Prad_2_min\"\n",
        "problem += I2 <= 3, \"Prad_2_max\"\n",
        " \n",
        "#Warunki doboru prądu dla R3 \n",
        "problem += I3 >= 1, \"Prad_3_min\"\n",
        "problem += I3 <= 3, \"Prad_3_max\"\n",
        "\n",
        "#Warunki doboru prądu dla R4  \n",
        "problem += I4 >= 1, \"Prad_4_min\"\n",
        "problem += I4 <= 3, \"Prad_4_max\"\n",
        "\n",
        "#Warunki doboru prądu dla R5\n",
        "problem += I5 >= 3, \"Prad_5_min\"\n",
        "problem += I5 <= 5, \"Prad_5_max\"\n",
        "\n",
        "#Funkcja pozwalająca na rozwiązanie problemu przez program\n",
        "problem.solve()\n",
        " \n",
        "#Printowanie statusu rozwiązania problemu \n",
        "print(\"Status:\", LpStatus[prob.status])\n",
        "\n",
        "#Wyprintowanie kolejno nazw i wartości wszystkich prądów \n",
        "for v in problem.variables():\n",
        "    print (v.name, \"=\", v.varValue)\n",
        "\n",
        "#Wyznaczenie najbardziej optymalnych rezystancji\n",
        "#Ważna uwaga - wartości prądów w treści zadania zostały podane w mA,\n",
        "#natomiast w zadaniu posługujemy się wartościami całkowitymi do rozwiązania problemu.\n",
        "#Dlatego przy poniższych odpowiedziach wartości wyrażone są w kOhmach. \n",
        "#Zgodnie z równaniem na rezystancje R = U/I = V/mA = V/A*10^-3 = ohm*10^3 = kOhm\n",
        "print(\"R1: \", 6/I1.varValue,\"kOhm\")\n",
        "print(\"R2: \", 10/I2.varValue,\"kOhm\")\n",
        "print(\"R3: \", 4/I3.varValue,\"kOhm\")\n",
        "print(\"R4: \", 7/I4.varValue,\"kOhm\")\n",
        "print(\"R5: \", 3/I5.varValue,\"kOhm\")"
      ],
      "execution_count": 40,
      "outputs": [
        {
          "output_type": "stream",
          "text": [
            "Status: Optimal\n",
            "Prad_1 = 3.0\n",
            "Prad_2 = 1.0\n",
            "Prad_3 = 1.0\n",
            "Prad_4 = 1.0\n",
            "Prad_5 = 3.0\n",
            "R1:  2.0 kOhm\n",
            "R2:  10.0 kOhm\n",
            "R3:  4.0 kOhm\n",
            "R4:  7.0 kOhm\n",
            "R5:  1.0 kOhm\n"
          ],
          "name": "stdout"
        }
      ]
    },
    {
      "cell_type": "code",
      "metadata": {
        "id": "Jaui0kaQaTlJ"
      },
      "source": [
        "Opis problemu nr 2\n",
        "Mamy układ utworzony z 5 oporników.\n",
        "Naszym zdaniem jest napisanie programu liniowego, który rozwiąże problem jaki maksymalny prąd może przepłynąć przez układ. \n",
        "Wiedząc, że maksymalny prąd dla każdego rezystora przedstawia się następująco:\n",
        "I1 = 2A\n",
        "I2 = 3A\n",
        "I3 = 4A\n",
        "I4 = 2A\n",
        "I5 = 2A"
      ],
      "execution_count": null,
      "outputs": []
    },
    {
      "cell_type": "code",
      "metadata": {
        "colab": {
          "base_uri": "https://localhost:8080/"
        },
        "id": "AtgNEZAFcEXL",
        "outputId": "d010a404-049b-4aa7-f5b1-699f0ebaae8b"
      },
      "source": [
        "#Realizacja rozwiązania problemu nr 2:\n",
        "\n",
        "#Importowanie biblioteki PuLP\n",
        "from pulp import *\n",
        "\n",
        "#Inicjalizacja zmiennej problem. LpMaximize świadczy o fakcie, że będziemy dążyć do maksymalizacji prądu jaki może przepłynąć przez nasz układ\n",
        "problem = LpProblem(\"Maksymalny prąd całego układu\", LpMaximize)\n",
        "\n",
        "#Tworzenie zmiennych dla PuLP. Chcemy wyznaczyć jakie prądy przepłyną przez rezystory\n",
        "I1 = LpVariable(\"Prad_1\", 0)\n",
        "I2 = LpVariable(\"Prad_2\", 0)\n",
        "I3 = LpVariable(\"Prad_3\", 0)\n",
        "I4 = LpVariable(\"Prad_4\", 0)\n",
        "I5 = LpVariable(\"Prad_5\", 0)\n",
        "\n",
        "#Tworzenie warunków, które muszą zostać spełnione i wynikają z treści zadania: \n",
        "\n",
        "#przez ten rezystor zawsze popłynie prąd maksymalny, wynosi 4A więc takie mamy ograniczenie\n",
        "problem += I3, \"Maksymalny prąd układu\"\n",
        "\n",
        "#W tym przypadku z prądowego prawa Kirchhoffa, prądy mogą rozcielać się między poszczególne rezystory przy czym wartość tych prądów musi być nie więsza niż prąd I3\n",
        "problem += I1 + I2 == I3, \"Prąd rezystorów R1, R2\"\n",
        "problem += I4 + I5 == I3, \"Prąd rezystorow R4, R5\"\n",
        "\n",
        "#Tworzenie warunków maksymalnych prądów przypadających na każdy rezystor. Wartości te wynikają z treści zadania\n",
        "problem += I1 <= 2.0, \"Maksymalny prad rezystora R1\"\n",
        "problem += I2 <= 3.0, \"Maksymalny prad rezystora R2\"\n",
        "problem += I3 <= 4.0, \"Maksymalny prad rezystora R3\"\n",
        "problem += I4 <= 2.0, \"Maksymalny prad rezystora R4\"\n",
        "problem += I5 <= 2.0, \"Maksymalny prad rezystora R5\"\n",
        "\n",
        "#Funkcja pozwalająca na rozwiązanie problemu przez program\n",
        "problem.solve()\n",
        "\n",
        "#Printowanie statusu rozwiązania problemu\n",
        "print(\"Status: \", LpStatus[problem.status])\n",
        "\n",
        "#Wyprintowanie kolejno nazw i wartości wszystkich prądów\n",
        "for v in problem.variables():\n",
        "  print(v.name, \" = \", v.varValue)\n",
        "\n",
        "#Wyprintowanie maksymalnego prądu płynącego przez układ\n",
        "print(\"Maksymalny prąd jaki przepłynie przez układ to: \", I3.varValue, \"A\")"
      ],
      "execution_count": 42,
      "outputs": [
        {
          "output_type": "stream",
          "text": [
            "Status:  Optimal\n",
            "Prad_1  =  1.0\n",
            "Prad_2  =  3.0\n",
            "Prad_3  =  4.0\n",
            "Prad_4  =  2.0\n",
            "Prad_5  =  2.0\n",
            "Maksymalny prąd jaki przepłynie przez układ to:  4.0 A\n"
          ],
          "name": "stdout"
        },
        {
          "output_type": "stream",
          "text": [
            "/usr/local/lib/python3.6/dist-packages/pulp/pulp.py:1198: UserWarning: Spaces are not permitted in the name. Converted to '_'\n",
            "  warnings.warn(\"Spaces are not permitted in the name. Converted to '_'\")\n"
          ],
          "name": "stderr"
        }
      ]
    }
  ]
}